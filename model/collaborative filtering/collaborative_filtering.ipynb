{
  "cells": [
    {
      "cell_type": "code",
      "execution_count": 1,
      "metadata": {
        "id": "tZfbBdJ_nzQq"
      },
      "outputs": [
        {
          "name": "stdout",
          "output_type": "stream",
          "text": [
            "WARNING:tensorflow:From c:\\Users\\u\\AppData\\Local\\Programs\\Python\\Python39\\lib\\site-packages\\keras\\src\\losses.py:2976: The name tf.losses.sparse_softmax_cross_entropy is deprecated. Please use tf.compat.v1.losses.sparse_softmax_cross_entropy instead.\n",
            "\n"
          ]
        }
      ],
      "source": [
        "import numpy as np\n",
        "import pandas as pd\n",
        "import matplotlib.pyplot as plt\n",
        "import tensorflow as tf\n",
        "from keras.layers import Input, Embedding, Flatten, Dot, Dense, Concatenate\n",
        "from keras.models import Model\n"
      ]
    },
    {
      "cell_type": "code",
      "execution_count": 2,
      "metadata": {
        "id": "Tf_ucW1ctJqq"
      },
      "outputs": [],
      "source": [
        "user_rating = pd.read_csv('../../dataset/user_rating.csv')"
      ]
    },
    {
      "cell_type": "code",
      "execution_count": 3,
      "metadata": {
        "colab": {
          "base_uri": "https://localhost:8080/",
          "height": 206
        },
        "id": "NJYA8sNCth5x",
        "outputId": "6dd95bd0-af6d-4aa7-e7bd-7b1dfca22736"
      },
      "outputs": [
        {
          "data": {
            "text/html": [
              "<div>\n",
              "<style scoped>\n",
              "    .dataframe tbody tr th:only-of-type {\n",
              "        vertical-align: middle;\n",
              "    }\n",
              "\n",
              "    .dataframe tbody tr th {\n",
              "        vertical-align: top;\n",
              "    }\n",
              "\n",
              "    .dataframe thead th {\n",
              "        text-align: right;\n",
              "    }\n",
              "</style>\n",
              "<table border=\"1\" class=\"dataframe\">\n",
              "  <thead>\n",
              "    <tr style=\"text-align: right;\">\n",
              "      <th></th>\n",
              "      <th>User_Id</th>\n",
              "      <th>Place_Id</th>\n",
              "      <th>Place_Ratings</th>\n",
              "    </tr>\n",
              "  </thead>\n",
              "  <tbody>\n",
              "    <tr>\n",
              "      <th>0</th>\n",
              "      <td>1</td>\n",
              "      <td>179</td>\n",
              "      <td>3</td>\n",
              "    </tr>\n",
              "    <tr>\n",
              "      <th>1</th>\n",
              "      <td>1</td>\n",
              "      <td>149</td>\n",
              "      <td>2</td>\n",
              "    </tr>\n",
              "    <tr>\n",
              "      <th>2</th>\n",
              "      <td>1</td>\n",
              "      <td>5</td>\n",
              "      <td>5</td>\n",
              "    </tr>\n",
              "    <tr>\n",
              "      <th>3</th>\n",
              "      <td>1</td>\n",
              "      <td>178</td>\n",
              "      <td>3</td>\n",
              "    </tr>\n",
              "    <tr>\n",
              "      <th>4</th>\n",
              "      <td>1</td>\n",
              "      <td>101</td>\n",
              "      <td>4</td>\n",
              "    </tr>\n",
              "  </tbody>\n",
              "</table>\n",
              "</div>"
            ],
            "text/plain": [
              "   User_Id  Place_Id  Place_Ratings\n",
              "0        1       179              3\n",
              "1        1       149              2\n",
              "2        1         5              5\n",
              "3        1       178              3\n",
              "4        1       101              4"
            ]
          },
          "execution_count": 3,
          "metadata": {},
          "output_type": "execute_result"
        }
      ],
      "source": [
        "user_rating.head()"
      ]
    },
    {
      "cell_type": "code",
      "execution_count": 4,
      "metadata": {
        "colab": {
          "base_uri": "https://localhost:8080/"
        },
        "id": "dRTy8ctDuO0P",
        "outputId": "311e9f5f-3ddd-4834-cfc8-01c409782227"
      },
      "outputs": [
        {
          "data": {
            "text/plain": [
              "(9138, 3)"
            ]
          },
          "execution_count": 4,
          "metadata": {},
          "output_type": "execute_result"
        }
      ],
      "source": [
        "user_rating.shape"
      ]
    },
    {
      "cell_type": "code",
      "execution_count": 5,
      "metadata": {
        "colab": {
          "base_uri": "https://localhost:8080/"
        },
        "id": "z2b-2yHDDKv5",
        "outputId": "3c786196-d3ef-4566-8f3c-c8ecb8be2060"
      },
      "outputs": [
        {
          "name": "stdout",
          "output_type": "stream",
          "text": [
            "<class 'pandas.core.frame.DataFrame'>\n",
            "RangeIndex: 9138 entries, 0 to 9137\n",
            "Data columns (total 3 columns):\n",
            " #   Column         Non-Null Count  Dtype\n",
            "---  ------         --------------  -----\n",
            " 0   User_Id        9138 non-null   int64\n",
            " 1   Place_Id       9138 non-null   int64\n",
            " 2   Place_Ratings  9138 non-null   int64\n",
            "dtypes: int64(3)\n",
            "memory usage: 214.3 KB\n"
          ]
        }
      ],
      "source": [
        "user_rating.info()"
      ]
    },
    {
      "cell_type": "code",
      "execution_count": 6,
      "metadata": {
        "colab": {
          "base_uri": "https://localhost:8080/"
        },
        "id": "Mj68HbJ0vdek",
        "outputId": "d8fac1cb-ee26-44eb-9c3a-f576db0394cc"
      },
      "outputs": [
        {
          "data": {
            "text/plain": [
              "300"
            ]
          },
          "execution_count": 6,
          "metadata": {},
          "output_type": "execute_result"
        }
      ],
      "source": [
        "n_users = len(user_rating.User_Id.unique())\n",
        "n_users"
      ]
    },
    {
      "cell_type": "code",
      "execution_count": 7,
      "metadata": {
        "colab": {
          "base_uri": "https://localhost:8080/"
        },
        "id": "3UyzAJvevhvo",
        "outputId": "7880552c-d77d-4b1f-a346-02ee8a2bc16f"
      },
      "outputs": [
        {
          "data": {
            "text/plain": [
              "195"
            ]
          },
          "execution_count": 7,
          "metadata": {},
          "output_type": "execute_result"
        }
      ],
      "source": [
        "place_num = len(user_rating.Place_Id.unique())\n",
        "place_num"
      ]
    },
    {
      "cell_type": "code",
      "execution_count": 8,
      "metadata": {
        "id": "L2J80X-kvR6G"
      },
      "outputs": [],
      "source": [
        "from sklearn.model_selection import train_test_split\n",
        "train, test = train_test_split(user_rating, test_size=0.2, random_state=42)"
      ]
    },
    {
      "cell_type": "code",
      "execution_count": 9,
      "metadata": {
        "colab": {
          "base_uri": "https://localhost:8080/",
          "height": 206
        },
        "id": "MGSFKQWyvXO6",
        "outputId": "fb3153d5-a1af-4c9a-c4b7-55ec8dec72d4"
      },
      "outputs": [
        {
          "data": {
            "text/html": [
              "<div>\n",
              "<style scoped>\n",
              "    .dataframe tbody tr th:only-of-type {\n",
              "        vertical-align: middle;\n",
              "    }\n",
              "\n",
              "    .dataframe tbody tr th {\n",
              "        vertical-align: top;\n",
              "    }\n",
              "\n",
              "    .dataframe thead th {\n",
              "        text-align: right;\n",
              "    }\n",
              "</style>\n",
              "<table border=\"1\" class=\"dataframe\">\n",
              "  <thead>\n",
              "    <tr style=\"text-align: right;\">\n",
              "      <th></th>\n",
              "      <th>User_Id</th>\n",
              "      <th>Place_Id</th>\n",
              "      <th>Place_Ratings</th>\n",
              "    </tr>\n",
              "  </thead>\n",
              "  <tbody>\n",
              "    <tr>\n",
              "      <th>3519</th>\n",
              "      <td>117</td>\n",
              "      <td>184</td>\n",
              "      <td>4</td>\n",
              "    </tr>\n",
              "    <tr>\n",
              "      <th>5794</th>\n",
              "      <td>191</td>\n",
              "      <td>177</td>\n",
              "      <td>4</td>\n",
              "    </tr>\n",
              "    <tr>\n",
              "      <th>4081</th>\n",
              "      <td>136</td>\n",
              "      <td>85</td>\n",
              "      <td>4</td>\n",
              "    </tr>\n",
              "    <tr>\n",
              "      <th>5735</th>\n",
              "      <td>189</td>\n",
              "      <td>183</td>\n",
              "      <td>3</td>\n",
              "    </tr>\n",
              "    <tr>\n",
              "      <th>214</th>\n",
              "      <td>9</td>\n",
              "      <td>55</td>\n",
              "      <td>4</td>\n",
              "    </tr>\n",
              "  </tbody>\n",
              "</table>\n",
              "</div>"
            ],
            "text/plain": [
              "      User_Id  Place_Id  Place_Ratings\n",
              "3519      117       184              4\n",
              "5794      191       177              4\n",
              "4081      136        85              4\n",
              "5735      189       183              3\n",
              "214         9        55              4"
            ]
          },
          "execution_count": 9,
          "metadata": {},
          "output_type": "execute_result"
        }
      ],
      "source": [
        "train.head()"
      ]
    },
    {
      "cell_type": "code",
      "execution_count": 10,
      "metadata": {
        "colab": {
          "base_uri": "https://localhost:8080/",
          "height": 206
        },
        "id": "nB-e089uvYCf",
        "outputId": "dbd0d66b-0549-4d18-d6dc-b1986fbdd3e6"
      },
      "outputs": [
        {
          "data": {
            "text/html": [
              "<div>\n",
              "<style scoped>\n",
              "    .dataframe tbody tr th:only-of-type {\n",
              "        vertical-align: middle;\n",
              "    }\n",
              "\n",
              "    .dataframe tbody tr th {\n",
              "        vertical-align: top;\n",
              "    }\n",
              "\n",
              "    .dataframe thead th {\n",
              "        text-align: right;\n",
              "    }\n",
              "</style>\n",
              "<table border=\"1\" class=\"dataframe\">\n",
              "  <thead>\n",
              "    <tr style=\"text-align: right;\">\n",
              "      <th></th>\n",
              "      <th>User_Id</th>\n",
              "      <th>Place_Id</th>\n",
              "      <th>Place_Ratings</th>\n",
              "    </tr>\n",
              "  </thead>\n",
              "  <tbody>\n",
              "    <tr>\n",
              "      <th>2287</th>\n",
              "      <td>77</td>\n",
              "      <td>43</td>\n",
              "      <td>2</td>\n",
              "    </tr>\n",
              "    <tr>\n",
              "      <th>7156</th>\n",
              "      <td>235</td>\n",
              "      <td>151</td>\n",
              "      <td>1</td>\n",
              "    </tr>\n",
              "    <tr>\n",
              "      <th>3608</th>\n",
              "      <td>120</td>\n",
              "      <td>36</td>\n",
              "      <td>3</td>\n",
              "    </tr>\n",
              "    <tr>\n",
              "      <th>47</th>\n",
              "      <td>2</td>\n",
              "      <td>0</td>\n",
              "      <td>2</td>\n",
              "    </tr>\n",
              "    <tr>\n",
              "      <th>879</th>\n",
              "      <td>31</td>\n",
              "      <td>37</td>\n",
              "      <td>2</td>\n",
              "    </tr>\n",
              "  </tbody>\n",
              "</table>\n",
              "</div>"
            ],
            "text/plain": [
              "      User_Id  Place_Id  Place_Ratings\n",
              "2287       77        43              2\n",
              "7156      235       151              1\n",
              "3608      120        36              3\n",
              "47          2         0              2\n",
              "879        31        37              2"
            ]
          },
          "execution_count": 10,
          "metadata": {},
          "output_type": "execute_result"
        }
      ],
      "source": [
        "test.head()"
      ]
    },
    {
      "cell_type": "code",
      "execution_count": 13,
      "metadata": {
        "id": "5I169R6pv-bc"
      },
      "outputs": [
        {
          "name": "stdout",
          "output_type": "stream",
          "text": [
            "WARNING:tensorflow:From c:\\Users\\u\\AppData\\Local\\Programs\\Python\\Python39\\lib\\site-packages\\keras\\src\\backend.py:1398: The name tf.executing_eagerly_outside_functions is deprecated. Please use tf.compat.v1.executing_eagerly_outside_functions instead.\n",
            "\n",
            "WARNING:tensorflow:From c:\\Users\\u\\AppData\\Local\\Programs\\Python\\Python39\\lib\\site-packages\\keras\\src\\optimizers\\__init__.py:309: The name tf.train.Optimizer is deprecated. Please use tf.compat.v1.train.Optimizer instead.\n",
            "\n"
          ]
        }
      ],
      "source": [
        "# creating destination embedding path\n",
        "destination_input = Input(shape=[1])\n",
        "destination_embedding = Embedding(place_num+1, 5)(destination_input)\n",
        "destination_flat = Flatten()(destination_embedding)\n",
        "\n",
        "# creating user embedding path\n",
        "user_input = Input(shape=[1])\n",
        "user_embedding = Embedding(n_users+1, 5)(user_input)\n",
        "user_flat = Flatten()(user_embedding)\n",
        "\n",
        "# concatenate features\n",
        "conc = Concatenate()([destination_flat, user_flat])\n",
        "\n",
        "# add fully-connected-layers\n",
        "x = Dense(128, activation='relu')(conc)\n",
        "x = Dense(64, activation='relu')(x)\n",
        "output = Dense(1)(x)\n",
        "\n",
        "# Create model and compile it\n",
        "model = Model([user_input, destination_input], output)\n",
        "model.compile('adam', 'mean_squared_error')"
      ]
    },
    {
      "cell_type": "code",
      "execution_count": 14,
      "metadata": {
        "colab": {
          "base_uri": "https://localhost:8080/"
        },
        "id": "h61uB6Yewh4w",
        "outputId": "9effa22c-2fb0-41d5-dc94-5a23ca2506d2"
      },
      "outputs": [
        {
          "name": "stdout",
          "output_type": "stream",
          "text": [
            "Model: \"model\"\n",
            "__________________________________________________________________________________________________\n",
            " Layer (type)                Output Shape                 Param #   Connected to                  \n",
            "==================================================================================================\n",
            " input_1 (InputLayer)        [(None, 1)]                  0         []                            \n",
            "                                                                                                  \n",
            " input_2 (InputLayer)        [(None, 1)]                  0         []                            \n",
            "                                                                                                  \n",
            " embedding (Embedding)       (None, 1, 5)                 980       ['input_1[0][0]']             \n",
            "                                                                                                  \n",
            " embedding_1 (Embedding)     (None, 1, 5)                 1505      ['input_2[0][0]']             \n",
            "                                                                                                  \n",
            " flatten (Flatten)           (None, 5)                    0         ['embedding[0][0]']           \n",
            "                                                                                                  \n",
            " flatten_1 (Flatten)         (None, 5)                    0         ['embedding_1[0][0]']         \n",
            "                                                                                                  \n",
            " concatenate (Concatenate)   (None, 10)                   0         ['flatten[0][0]',             \n",
            "                                                                     'flatten_1[0][0]']           \n",
            "                                                                                                  \n",
            " dense (Dense)               (None, 128)                  1408      ['concatenate[0][0]']         \n",
            "                                                                                                  \n",
            " dense_1 (Dense)             (None, 64)                   8256      ['dense[0][0]']               \n",
            "                                                                                                  \n",
            " dense_2 (Dense)             (None, 1)                    65        ['dense_1[0][0]']             \n",
            "                                                                                                  \n",
            "==================================================================================================\n",
            "Total params: 12214 (47.71 KB)\n",
            "Trainable params: 12214 (47.71 KB)\n",
            "Non-trainable params: 0 (0.00 Byte)\n",
            "__________________________________________________________________________________________________\n"
          ]
        }
      ],
      "source": [
        "model.summary()"
      ]
    },
    {
      "cell_type": "code",
      "execution_count": 15,
      "metadata": {
        "colab": {
          "base_uri": "https://localhost:8080/"
        },
        "id": "5zoNDDcDy3LL",
        "outputId": "94c9f3bf-1a95-4ffc-da87-ab4821f30cf6"
      },
      "outputs": [
        {
          "name": "stdout",
          "output_type": "stream",
          "text": [
            "Epoch 1/20\n",
            "WARNING:tensorflow:From c:\\Users\\u\\AppData\\Local\\Programs\\Python\\Python39\\lib\\site-packages\\keras\\src\\utils\\tf_utils.py:492: The name tf.ragged.RaggedTensorValue is deprecated. Please use tf.compat.v1.ragged.RaggedTensorValue instead.\n",
            "\n",
            "229/229 [==============================] - 3s 4ms/step - loss: 3.1924\n",
            "Epoch 2/20\n",
            "229/229 [==============================] - 1s 3ms/step - loss: 1.8756\n",
            "Epoch 3/20\n",
            "229/229 [==============================] - 1s 3ms/step - loss: 1.8369\n",
            "Epoch 4/20\n",
            "229/229 [==============================] - 1s 3ms/step - loss: 1.8173\n",
            "Epoch 5/20\n",
            "229/229 [==============================] - 1s 3ms/step - loss: 1.8116\n",
            "Epoch 6/20\n",
            "229/229 [==============================] - 1s 3ms/step - loss: 1.8035\n",
            "Epoch 7/20\n",
            "229/229 [==============================] - 1s 3ms/step - loss: 1.7974\n",
            "Epoch 8/20\n",
            "229/229 [==============================] - 1s 3ms/step - loss: 1.7980\n",
            "Epoch 9/20\n",
            "229/229 [==============================] - 1s 3ms/step - loss: 1.7906\n",
            "Epoch 10/20\n",
            "229/229 [==============================] - 1s 4ms/step - loss: 1.7819\n",
            "Epoch 11/20\n",
            "229/229 [==============================] - 1s 5ms/step - loss: 1.7651\n",
            "Epoch 12/20\n",
            "229/229 [==============================] - 1s 3ms/step - loss: 1.7452\n",
            "Epoch 13/20\n",
            "229/229 [==============================] - 1s 3ms/step - loss: 1.7194\n",
            "Epoch 14/20\n",
            "229/229 [==============================] - 1s 3ms/step - loss: 1.6953\n",
            "Epoch 15/20\n",
            "229/229 [==============================] - 1s 3ms/step - loss: 1.6580\n",
            "Epoch 16/20\n",
            "229/229 [==============================] - 1s 3ms/step - loss: 1.6378\n",
            "Epoch 17/20\n",
            "229/229 [==============================] - 1s 4ms/step - loss: 1.6075\n",
            "Epoch 18/20\n",
            "229/229 [==============================] - 1s 5ms/step - loss: 1.5869\n",
            "Epoch 19/20\n",
            "229/229 [==============================] - 1s 4ms/step - loss: 1.5631\n",
            "Epoch 20/20\n",
            "229/229 [==============================] - 1s 4ms/step - loss: 1.5355\n"
          ]
        }
      ],
      "source": [
        "history = model.fit([train.User_Id, train.Place_Id], train.Place_Ratings, epochs=20)\n",
        "\n"
      ]
    },
    {
      "cell_type": "code",
      "execution_count": 16,
      "metadata": {
        "colab": {
          "base_uri": "https://localhost:8080/",
          "height": 466
        },
        "id": "GocISHYg9XT7",
        "outputId": "b4592e38-df13-4e98-e5a0-0db4c85b8084"
      },
      "outputs": [
        {
          "data": {
            "text/plain": [
              "Text(0, 0.5, 'Training Error')"
            ]
          },
          "execution_count": 16,
          "metadata": {},
          "output_type": "execute_result"
        },
        {
          "data": {
            "image/png": "[encoded data removed]",
            "text/plain": [
              "<Figure size 640x480 with 1 Axes>"
            ]
          },
          "metadata": {},
          "output_type": "display_data"
        }
      ],
      "source": [
        "plt.plot(history.history['loss'])\n",
        "plt.xlabel(\"Epochs\")\n",
        "plt.ylabel(\"Training Error\")"
      ]
    },
    {
      "cell_type": "code",
      "execution_count": 17,
      "metadata": {
        "colab": {
          "base_uri": "https://localhost:8080/"
        },
        "id": "jLT5lQn4zdSX",
        "outputId": "186fe0cd-4ae9-40a6-f6d6-80dc794bdb7f"
      },
      "outputs": [
        {
          "name": "stdout",
          "output_type": "stream",
          "text": [
            "58/58 [==============================] - 0s 2ms/step - loss: 2.1945\n"
          ]
        },
        {
          "data": {
            "text/plain": [
              "2.1945369243621826"
            ]
          },
          "execution_count": 17,
          "metadata": {},
          "output_type": "execute_result"
        }
      ],
      "source": [
        "model.evaluate([test.User_Id, test.Place_Id], test.Place_Ratings)"
      ]
    },
    {
      "cell_type": "code",
      "execution_count": 16,
      "metadata": {
        "colab": {
          "base_uri": "https://localhost:8080/"
        },
        "id": "J_Dmq8l-D6KV",
        "outputId": "a4d04fb2-3354-4e8c-9b31-9542be121013"
      },
      "outputs": [
        {
          "name": "stderr",
          "output_type": "stream",
          "text": [
            "c:\\Users\\u\\AppData\\Local\\Programs\\Python\\Python39\\lib\\site-packages\\keras\\src\\engine\\training.py:3103: UserWarning: You are saving your model as an HDF5 file via `model.save()`. This file format is considered legacy. We recommend using instead the native Keras format, e.g. `model.save('my_model.keras')`.\n",
            "  saving_api.save_model(\n"
          ]
        }
      ],
      "source": [
        "# model.save('model.h5')"
      ]
    },
    {
      "cell_type": "code",
      "execution_count": 19,
      "metadata": {
        "colab": {
          "base_uri": "https://localhost:8080/"
        },
        "id": "ecO4PZep0JIL",
        "outputId": "3ecee4df-6c95-49b5-ae6b-597929470dc3"
      },
      "outputs": [
        {
          "data": {
            "text/plain": [
              "array([  0,   1,   2,   3,   4,   5,   6,   7,   8,   9,  10,  11,  12,\n",
              "        13,  14,  15,  16,  17,  18,  19,  20,  21,  22,  23,  24,  25,\n",
              "        26,  27,  28,  29,  30,  31,  32,  33,  34,  35,  36,  37,  38,\n",
              "        39,  40,  41,  42,  43,  44,  45,  46,  47,  48,  49,  50,  51,\n",
              "        52,  53,  54,  55,  56,  57,  58,  59,  60,  61,  62,  63,  64,\n",
              "        65,  66,  67,  68,  69,  70,  71,  72,  73,  74,  75,  76,  77,\n",
              "        78,  79,  80,  81,  82,  83,  84,  85,  86,  87,  88,  89,  90,\n",
              "        91,  92,  93,  94,  95,  96,  97,  98,  99, 100, 101, 102, 103,\n",
              "       104, 105, 106, 107, 108, 109, 110, 111, 112, 113, 114, 115, 116,\n",
              "       117, 118, 119, 120, 121, 122, 123, 124, 125, 126, 127, 128, 129,\n",
              "       130, 131, 132, 133, 134, 135, 136, 137, 138, 139, 140, 141, 142,\n",
              "       143, 144, 145, 146, 147, 148, 149, 150, 151, 152, 153, 154, 155,\n",
              "       156, 157, 158, 159, 160, 161, 162, 163, 164, 165, 166, 167, 168,\n",
              "       169, 170, 171, 172, 173, 174, 175, 176, 177, 178, 179, 180, 181,\n",
              "       182, 183, 184, 185, 186, 187, 188, 189, 190, 191, 192, 193, 194])"
            ]
          },
          "execution_count": 19,
          "metadata": {},
          "output_type": "execute_result"
        }
      ],
      "source": [
        "# Creating dataset for making recommendations for the first user\n",
        "tourism_data = np.array(list(set(user_rating.Place_Id)))\n",
        "tourism_data[:]"
      ]
    },
    {
      "cell_type": "code",
      "execution_count": 22,
      "metadata": {
        "colab": {
          "base_uri": "https://localhost:8080/"
        },
        "id": "fNalDIDC0Rem",
        "outputId": "1867ea00-df17-4f3a-f98f-e7707902380a"
      },
      "outputs": [
        {
          "data": {
            "text/plain": [
              "array([5, 5, 5, 5, 5, 5, 5, 5, 5, 5])"
            ]
          },
          "execution_count": 22,
          "metadata": {},
          "output_type": "execute_result"
        }
      ],
      "source": [
        "id_user = 5\n",
        "user = np.array([id_user for i in range(len(tourism_data))])\n",
        "user[:10]"
      ]
    },
    {
      "cell_type": "markdown",
      "metadata": {
        "id": "SM0moezXTwmv"
      },
      "source": [
        "Predict"
      ]
    },
    {
      "cell_type": "code",
      "execution_count": null,
      "metadata": {},
      "outputs": [],
      "source": [
        "# model = tensorflow.keras.models.load_model('model.h5')\n"
      ]
    },
    {
      "cell_type": "code",
      "execution_count": 23,
      "metadata": {
        "colab": {
          "base_uri": "https://localhost:8080/"
        },
        "id": "3N8-eQQR0V0n",
        "outputId": "7ec7983b-3340-45d6-b0de-e82bed2579a5"
      },
      "outputs": [
        {
          "name": "stdout",
          "output_type": "stream",
          "text": [
            "7/7 [==============================] - 0s 2ms/step\n"
          ]
        },
        {
          "data": {
            "text/plain": [
              "array([ 47, 180, 112, 131, 132, 117,  22,  19, 134,  20], dtype=int64)"
            ]
          },
          "execution_count": 23,
          "metadata": {},
          "output_type": "execute_result"
        }
      ],
      "source": [
        "predictions = model.predict([user, tourism_data])\n",
        "\n",
        "predictions = np.array([a[0] for a in predictions])\n",
        "\n",
        "recommended_tourism_ids = (-predictions).argsort()[:10]\n",
        "\n",
        "recommended_tourism_ids"
      ]
    },
    {
      "cell_type": "code",
      "execution_count": 30,
      "metadata": {
        "colab": {
          "base_uri": "https://localhost:8080/"
        },
        "id": "J4AChC04s4Uh",
        "outputId": "5e4f633f-d3a5-4bf9-8675-36e4f7638c45"
      },
      "outputs": [
        {
          "data": {
            "text/plain": [
              "47                                    Kedungu beach Bali\n",
              "180                                 Tegenungan Waterfall\n",
              "112                         Bali Budaya Cultural Village\n",
              "131                                     Pantai Mengening\n",
              "132                                   Brahmavihara Arama\n",
              "117                       Taman Werdhi Budaya Art Centre\n",
              "22               Monumen Operasi Lintas Laut Jawa - Bali\n",
              "19                           Santhipala Spring Waterfall\n",
              "134    Lapangan Puputan Badung (I Gusti Ngurah Made A...\n",
              "20                          Monumen MBO DPRI Sunda Kecil\n",
              "Name: place, dtype: object"
            ]
          },
          "execution_count": 30,
          "metadata": {},
          "output_type": "execute_result"
        }
      ],
      "source": [
        "bali_dataset = pd.read_csv('../../dataset/new_bali_dataset.csv', delimiter=';')\n",
        "recommended_places = bali_dataset.loc[recommended_tourism_ids, 'place']\n",
        "recommended_places"
      ]
    },
    {
      "cell_type": "code",
      "execution_count": 31,
      "metadata": {
        "colab": {
          "base_uri": "https://localhost:8080/"
        },
        "id": "4BwoxGc40eGt",
        "outputId": "c5c012a1-b6a3-496e-b1d4-5d9d755c5c90"
      },
      "outputs": [
        {
          "data": {
            "text/plain": [
              "array([4.771794 , 4.624795 , 4.5921836, 4.549923 , 4.5140734, 4.472146 ,\n",
              "       4.4633036, 4.3804607, 4.3517017, 4.3312144], dtype=float32)"
            ]
          },
          "execution_count": 31,
          "metadata": {},
          "output_type": "execute_result"
        }
      ],
      "source": [
        "# print predicted scores\n",
        "predictions[recommended_tourism_ids]"
      ]
    },
    {
      "cell_type": "code",
      "execution_count": 32,
      "metadata": {
        "colab": {
          "base_uri": "https://localhost:8080/"
        },
        "id": "MOAAHqo9udPB",
        "outputId": "0e7ad9b4-9c36-4b66-bddb-1a0c47c97f98"
      },
      "outputs": [],
      "source": [
        "\n",
        "# import joblib\n",
        "# joblib.dump(model, 'model.pkl')\n"
      ]
    },
    {
      "cell_type": "code",
      "execution_count": 33,
      "metadata": {
        "colab": {
          "base_uri": "https://localhost:8080/",
          "height": 1000
        },
        "id": "tm97wshquQan",
        "outputId": "6e5e092e-429b-4e36-c8f5-220430ad0ec1"
      },
      "outputs": [],
      "source": [
        "# %pip install tensorflowjs"
      ]
    },
    {
      "cell_type": "code",
      "execution_count": 34,
      "metadata": {
        "colab": {
          "base_uri": "https://localhost:8080/"
        },
        "id": "t5J7lvVG2A4V",
        "outputId": "35d1824e-1460-49b4-c86c-9ee3e5bad8c5"
      },
      "outputs": [],
      "source": [
        "# # from tensorflow.keras import tensorflowjs\n",
        "# # import tensorflowjs_converter\n",
        "\n",
        "# !tensorflowjs_converter --input_format=keras_saved_model /tmp/saved_model/model.h5 /tmp/tfjs_model"
      ]
    },
    {
      "cell_type": "code",
      "execution_count": 35,
      "metadata": {
        "colab": {
          "base_uri": "https://localhost:8080/"
        },
        "id": "oIixJEhRD89a",
        "outputId": "2da511c3-30f4-48d7-c593-73d7f052a2bc"
      },
      "outputs": [],
      "source": [
        "# import tensorflow as tf\n",
        "# tf.compat.v1.enable_eager_execution()\n",
        "\n",
        "# # Load your model\n",
        "# model = tf.keras.models.load_model('model.h5')\n",
        "\n",
        "# # Save the model in TensorFlow.js format\n",
        "# import tensorflowjs as tfjs\n",
        "# tfjs.converters.save_keras_model(model, '/tfjs_model')"
      ]
    },
    {
      "cell_type": "code",
      "execution_count": 36,
      "metadata": {
        "colab": {
          "base_uri": "https://localhost:8080/",
          "height": 460
        },
        "id": "QDanqNWgGlrJ",
        "outputId": "28bc3179-cb02-414b-d6ca-96dc6aaabc76"
      },
      "outputs": [],
      "source": [
        "# import tensorflowjs as tfjs\n",
        "\n",
        "# model = tfjs.converters.load_keras_model('/content/model.json')"
      ]
    },
    {
      "cell_type": "code",
      "execution_count": 37,
      "metadata": {
        "colab": {
          "base_uri": "https://localhost:8080/"
        },
        "id": "0_C2D6uIGsji",
        "outputId": "271beeaa-fe68-459a-a4d3-e40e45b0e688"
      },
      "outputs": [],
      "source": [
        "# import tensorflow as tf\n",
        "# import numpy as np\n",
        "\n",
        "# # 1. Load the original model\n",
        "# model = tf.keras.models.load_model('/tmp/saved_model/model.h5')\n",
        "# id_user = 3\n",
        "# tourism_data = np.array(list(set(tourism.Place_Id)))\n",
        "# user = np.array([id_user for i in range(len(tourism_data))])\n",
        "# predictions = model.predict([user, tourism_data])\n",
        "# print(predictions)\n"
      ]
    },
    {
      "cell_type": "code",
      "execution_count": 38,
      "metadata": {
        "colab": {
          "base_uri": "https://localhost:8080/"
        },
        "id": "k8spJeszItIC",
        "outputId": "3a5c68d5-c738-45c7-edd8-2bf323250117"
      },
      "outputs": [],
      "source": [
        "# shape = len(predictions)\n",
        "# print(shape)\n",
        "# print(57-39)\n",
        "# print(len(tourism_data))"
      ]
    },
    {
      "cell_type": "code",
      "execution_count": null,
      "metadata": {},
      "outputs": [],
      "source": [
        "# shape = len(predictions)\n",
        "# print(shape)\n",
        "# print(57-39)\n",
        "# print(len(tourism_data))"
      ]
    }
  ],
  "metadata": {
    "colab": {
      "provenance": []
    },
    "kernelspec": {
      "display_name": "Python 3",
      "name": "python3"
    },
    "language_info": {
      "codemirror_mode": {
        "name": "ipython",
        "version": 3
      },
      "file_extension": ".py",
      "mimetype": "text/x-python",
      "name": "python",
      "nbconvert_exporter": "python",
      "pygments_lexer": "ipython3",
      "version": "3.9.2"
    }
  },
  "nbformat": 4,
  "nbformat_minor": 0
}
