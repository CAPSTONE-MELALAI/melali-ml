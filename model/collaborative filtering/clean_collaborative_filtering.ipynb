{
  "cells": [
    {
      "cell_type": "code",
      "execution_count": 1,
      "metadata": {
        "id": "tZfbBdJ_nzQq"
      },
      "outputs": [
        {
          "name": "stdout",
          "output_type": "stream",
          "text": [
            "WARNING:tensorflow:From c:\\Users\\u\\AppData\\Local\\Programs\\Python\\Python39\\lib\\site-packages\\keras\\src\\losses.py:2976: The name tf.losses.sparse_softmax_cross_entropy is deprecated. Please use tf.compat.v1.losses.sparse_softmax_cross_entropy instead.\n",
            "\n"
          ]
        }
      ],
      "source": [
        "import numpy as np\n",
        "import pandas as pd\n",
        "import matplotlib.pyplot as plt\n",
        "import tensorflow as tf\n",
        "from keras.layers import Input, Embedding, Flatten, Dot, Dense, Concatenate\n",
        "from keras.models import Model\n"
      ]
    },
    {
      "cell_type": "code",
      "execution_count": 2,
      "metadata": {
        "id": "Tf_ucW1ctJqq"
      },
      "outputs": [],
      "source": [
        "user_rating = pd.read_csv('../../dataset/user_rating.csv')"
      ]
    },
    {
      "cell_type": "code",
      "execution_count": 8,
      "metadata": {
        "id": "L2J80X-kvR6G"
      },
      "outputs": [],
      "source": [
        "from sklearn.model_selection import train_test_split\n",
        "train, test = train_test_split(user_rating, test_size=0.2, random_state=42)"
      ]
    },
    {
      "cell_type": "code",
      "execution_count": 13,
      "metadata": {
        "id": "5I169R6pv-bc"
      },
      "outputs": [
        {
          "name": "stdout",
          "output_type": "stream",
          "text": [
            "WARNING:tensorflow:From c:\\Users\\u\\AppData\\Local\\Programs\\Python\\Python39\\lib\\site-packages\\keras\\src\\backend.py:1398: The name tf.executing_eagerly_outside_functions is deprecated. Please use tf.compat.v1.executing_eagerly_outside_functions instead.\n",
            "\n",
            "WARNING:tensorflow:From c:\\Users\\u\\AppData\\Local\\Programs\\Python\\Python39\\lib\\site-packages\\keras\\src\\optimizers\\__init__.py:309: The name tf.train.Optimizer is deprecated. Please use tf.compat.v1.train.Optimizer instead.\n",
            "\n"
          ]
        }
      ],
      "source": [
        "# creating destination embedding path\n",
        "destination_input = Input(shape=[1])\n",
        "destination_embedding = Embedding(place_num+1, 5)(destination_input)\n",
        "destination_flat = Flatten()(destination_embedding)\n",
        "\n",
        "# creating user embedding path\n",
        "user_input = Input(shape=[1])\n",
        "user_embedding = Embedding(n_users+1, 5)(user_input)\n",
        "user_flat = Flatten()(user_embedding)\n",
        "\n",
        "# concatenate features\n",
        "conc = Concatenate()([destination_flat, user_flat])\n",
        "\n",
        "# add fully-connected-layers\n",
        "x = Dense(128, activation='relu')(conc)\n",
        "x = Dense(64, activation='relu')(x)\n",
        "output = Dense(1)(x)\n",
        "\n",
        "# Create model and compile it\n",
        "model = Model([user_input, destination_input], output)\n",
        "model.compile('adam', 'mean_squared_error')"
      ]
    },
    {
      "cell_type": "code",
      "execution_count": 15,
      "metadata": {
        "colab": {
          "base_uri": "https://localhost:8080/"
        },
        "id": "5zoNDDcDy3LL",
        "outputId": "94c9f3bf-1a95-4ffc-da87-ab4821f30cf6"
      },
      "outputs": [
        {
          "name": "stdout",
          "output_type": "stream",
          "text": [
            "Epoch 1/20\n",
            "WARNING:tensorflow:From c:\\Users\\u\\AppData\\Local\\Programs\\Python\\Python39\\lib\\site-packages\\keras\\src\\utils\\tf_utils.py:492: The name tf.ragged.RaggedTensorValue is deprecated. Please use tf.compat.v1.ragged.RaggedTensorValue instead.\n",
            "\n",
            "229/229 [==============================] - 3s 4ms/step - loss: 3.1924\n",
            "Epoch 2/20\n",
            "229/229 [==============================] - 1s 3ms/step - loss: 1.8756\n",
            "Epoch 3/20\n",
            "229/229 [==============================] - 1s 3ms/step - loss: 1.8369\n",
            "Epoch 4/20\n",
            "229/229 [==============================] - 1s 3ms/step - loss: 1.8173\n",
            "Epoch 5/20\n",
            "229/229 [==============================] - 1s 3ms/step - loss: 1.8116\n",
            "Epoch 6/20\n",
            "229/229 [==============================] - 1s 3ms/step - loss: 1.8035\n",
            "Epoch 7/20\n",
            "229/229 [==============================] - 1s 3ms/step - loss: 1.7974\n",
            "Epoch 8/20\n",
            "229/229 [==============================] - 1s 3ms/step - loss: 1.7980\n",
            "Epoch 9/20\n",
            "229/229 [==============================] - 1s 3ms/step - loss: 1.7906\n",
            "Epoch 10/20\n",
            "229/229 [==============================] - 1s 4ms/step - loss: 1.7819\n",
            "Epoch 11/20\n",
            "229/229 [==============================] - 1s 5ms/step - loss: 1.7651\n",
            "Epoch 12/20\n",
            "229/229 [==============================] - 1s 3ms/step - loss: 1.7452\n",
            "Epoch 13/20\n",
            "229/229 [==============================] - 1s 3ms/step - loss: 1.7194\n",
            "Epoch 14/20\n",
            "229/229 [==============================] - 1s 3ms/step - loss: 1.6953\n",
            "Epoch 15/20\n",
            "229/229 [==============================] - 1s 3ms/step - loss: 1.6580\n",
            "Epoch 16/20\n",
            "229/229 [==============================] - 1s 3ms/step - loss: 1.6378\n",
            "Epoch 17/20\n",
            "229/229 [==============================] - 1s 4ms/step - loss: 1.6075\n",
            "Epoch 18/20\n",
            "229/229 [==============================] - 1s 5ms/step - loss: 1.5869\n",
            "Epoch 19/20\n",
            "229/229 [==============================] - 1s 4ms/step - loss: 1.5631\n",
            "Epoch 20/20\n",
            "229/229 [==============================] - 1s 4ms/step - loss: 1.5355\n"
          ]
        }
      ],
      "source": [
        "history = model.fit([train.User_Id, train.Place_Id], train.Place_Ratings, epochs=20)"
      ]
    },
    {
      "cell_type": "code",
      "execution_count": 19,
      "metadata": {
        "colab": {
          "base_uri": "https://localhost:8080/"
        },
        "id": "ecO4PZep0JIL",
        "outputId": "3ecee4df-6c95-49b5-ae6b-597929470dc3"
      },
      "outputs": [
        {
          "data": {
            "text/plain": [
              "array([  0,   1,   2,   3,   4,   5,   6,   7,   8,   9,  10,  11,  12,\n",
              "        13,  14,  15,  16,  17,  18,  19,  20,  21,  22,  23,  24,  25,\n",
              "        26,  27,  28,  29,  30,  31,  32,  33,  34,  35,  36,  37,  38,\n",
              "        39,  40,  41,  42,  43,  44,  45,  46,  47,  48,  49,  50,  51,\n",
              "        52,  53,  54,  55,  56,  57,  58,  59,  60,  61,  62,  63,  64,\n",
              "        65,  66,  67,  68,  69,  70,  71,  72,  73,  74,  75,  76,  77,\n",
              "        78,  79,  80,  81,  82,  83,  84,  85,  86,  87,  88,  89,  90,\n",
              "        91,  92,  93,  94,  95,  96,  97,  98,  99, 100, 101, 102, 103,\n",
              "       104, 105, 106, 107, 108, 109, 110, 111, 112, 113, 114, 115, 116,\n",
              "       117, 118, 119, 120, 121, 122, 123, 124, 125, 126, 127, 128, 129,\n",
              "       130, 131, 132, 133, 134, 135, 136, 137, 138, 139, 140, 141, 142,\n",
              "       143, 144, 145, 146, 147, 148, 149, 150, 151, 152, 153, 154, 155,\n",
              "       156, 157, 158, 159, 160, 161, 162, 163, 164, 165, 166, 167, 168,\n",
              "       169, 170, 171, 172, 173, 174, 175, 176, 177, 178, 179, 180, 181,\n",
              "       182, 183, 184, 185, 186, 187, 188, 189, 190, 191, 192, 193, 194])"
            ]
          },
          "execution_count": 19,
          "metadata": {},
          "output_type": "execute_result"
        }
      ],
      "source": [
        "# Creating dataset for making recommendations for the first user\n",
        "tourism_data = np.array(list(set(user_rating.Place_Id)))"
      ]
    },
    {
      "cell_type": "code",
      "execution_count": 22,
      "metadata": {
        "colab": {
          "base_uri": "https://localhost:8080/"
        },
        "id": "fNalDIDC0Rem",
        "outputId": "1867ea00-df17-4f3a-f98f-e7707902380a"
      },
      "outputs": [
        {
          "data": {
            "text/plain": [
              "array([5, 5, 5, 5, 5, 5, 5, 5, 5, 5])"
            ]
          },
          "execution_count": 22,
          "metadata": {},
          "output_type": "execute_result"
        }
      ],
      "source": [
        "id_user = 5\n",
        "user = np.array([id_user for i in range(len(tourism_data))])"
      ]
    },
    {
      "cell_type": "markdown",
      "metadata": {
        "id": "SM0moezXTwmv"
      },
      "source": [
        "Predict"
      ]
    },
    {
      "cell_type": "code",
      "execution_count": 23,
      "metadata": {
        "colab": {
          "base_uri": "https://localhost:8080/"
        },
        "id": "3N8-eQQR0V0n",
        "outputId": "7ec7983b-3340-45d6-b0de-e82bed2579a5"
      },
      "outputs": [
        {
          "name": "stdout",
          "output_type": "stream",
          "text": [
            "7/7 [==============================] - 0s 2ms/step\n"
          ]
        },
        {
          "data": {
            "text/plain": [
              "array([ 47, 180, 112, 131, 132, 117,  22,  19, 134,  20], dtype=int64)"
            ]
          },
          "execution_count": 23,
          "metadata": {},
          "output_type": "execute_result"
        }
      ],
      "source": [
        "predictions = model.predict([user, tourism_data])\n",
        "\n",
        "predictions = np.array([a[0] for a in predictions])\n",
        "\n",
        "recommended_tourism_ids = (-predictions).argsort()[:10]\n",
        "\n",
        "recommended_tourism_ids"
      ]
    },
    {
      "cell_type": "code",
      "execution_count": 30,
      "metadata": {
        "colab": {
          "base_uri": "https://localhost:8080/"
        },
        "id": "J4AChC04s4Uh",
        "outputId": "5e4f633f-d3a5-4bf9-8675-36e4f7638c45"
      },
      "outputs": [
        {
          "data": {
            "text/plain": [
              "47                                    Kedungu beach Bali\n",
              "180                                 Tegenungan Waterfall\n",
              "112                         Bali Budaya Cultural Village\n",
              "131                                     Pantai Mengening\n",
              "132                                   Brahmavihara Arama\n",
              "117                       Taman Werdhi Budaya Art Centre\n",
              "22               Monumen Operasi Lintas Laut Jawa - Bali\n",
              "19                           Santhipala Spring Waterfall\n",
              "134    Lapangan Puputan Badung (I Gusti Ngurah Made A...\n",
              "20                          Monumen MBO DPRI Sunda Kecil\n",
              "Name: place, dtype: object"
            ]
          },
          "execution_count": 30,
          "metadata": {},
          "output_type": "execute_result"
        }
      ],
      "source": [
        "bali_dataset = pd.read_csv('../../dataset/new_bali_dataset.csv', delimiter=';')\n",
        "recommended_places = bali_dataset.loc[recommended_tourism_ids, 'place']\n",
        "recommended_places"
      ]
    }
  ],
  "metadata": {
    "colab": {
      "provenance": []
    },
    "kernelspec": {
      "display_name": "Python 3",
      "name": "python3"
    },
    "language_info": {
      "codemirror_mode": {
        "name": "ipython",
        "version": 3
      },
      "file_extension": ".py",
      "mimetype": "text/x-python",
      "name": "python",
      "nbconvert_exporter": "python",
      "pygments_lexer": "ipython3",
      "version": "3.9.2"
    }
  },
  "nbformat": 4,
  "nbformat_minor": 0
}
