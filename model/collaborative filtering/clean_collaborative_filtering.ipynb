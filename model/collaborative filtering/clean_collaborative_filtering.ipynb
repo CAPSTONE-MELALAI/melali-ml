{
  "cells": [
    {
      "cell_type": "code",
      "execution_count": 53,
      "metadata": {
        "id": "tZfbBdJ_nzQq"
      },
      "outputs": [],
      "source": [
        "import numpy as np\n",
        "import pandas as pd\n",
        "import tensorflow as tf\n",
        "\n"
      ]
    },
    {
      "cell_type": "code",
      "execution_count": 54,
      "metadata": {
        "id": "Tf_ucW1ctJqq"
      },
      "outputs": [],
      "source": [
        "df_user = pd.read_csv('../../dataset/df_user.csv')\n",
        "place_num = len(df_user.Place_Id.unique())\n",
        "n_users = len(df_user.User_Id.unique())\n",
        "\n"
      ]
    },
    {
      "cell_type": "code",
      "execution_count": 55,
      "metadata": {},
      "outputs": [],
      "source": [
        "df_destination = pd.read_csv('../../dataset/new_bali_dataset.csv', delimiter=';', header=0)\n",
        "df_destination['price'].fillna(0, inplace=True)\n",
        "df_destination['category'].fillna('unknown', inplace=True)"
      ]
    },
    {
      "cell_type": "code",
      "execution_count": 56,
      "metadata": {
        "id": "L2J80X-kvR6G"
      },
      "outputs": [],
      "source": [
        "from sklearn.model_selection import train_test_split\n",
        "train, test = train_test_split(df_user, test_size=0.2, random_state=42)"
      ]
    },
    {
      "cell_type": "code",
      "execution_count": 57,
      "metadata": {
        "id": "5I169R6pv-bc"
      },
      "outputs": [],
      "source": [
        "def create_model():\n",
        "    # creating destination embedding path\n",
        "    destination_input = Input(shape=[1])\n",
        "    destination_embedding = Embedding(place_num+1, 5)(destination_input)\n",
        "    destination_flat = Flatten()(destination_embedding)\n",
        "\n",
        "    # creating user embedding path\n",
        "    user_input = Input(shape=[1])\n",
        "    user_embedding = Embedding(n_users+1, 5)(user_input)\n",
        "    user_flat = Flatten()(user_embedding)\n",
        "\n",
        "    # concatenate features\n",
        "    conc = Concatenate()([destination_flat, user_flat])\n",
        "\n",
        "    # add fully-connected-layers\n",
        "    x = Dense(128, activation='relu')(conc)\n",
        "    x = Dense(64, activation='relu')(x)\n",
        "    output = Dense(1)(x)\n",
        "\n",
        "    # Create model and compile it\n",
        "    model = Model([user_input, destination_input], output)\n",
        "    model.compile('adam', 'mean_squared_error')\n",
        "    history = model.fit([train.User_Id, train.Place_Id], train.Place_Ratings, epochs=20)\n",
        "    return history, model"
      ]
    },
    {
      "cell_type": "markdown",
      "metadata": {
        "id": "SM0moezXTwmv"
      },
      "source": [
        "Predict"
      ]
    },
    {
      "cell_type": "code",
      "execution_count": 58,
      "metadata": {
        "colab": {
          "base_uri": "https://localhost:8080/"
        },
        "id": "J4AChC04s4Uh",
        "outputId": "5e4f633f-d3a5-4bf9-8675-36e4f7638c45"
      },
      "outputs": [],
      "source": [
        "# bali_dataset = pd.read_csv('../../dataset/new_bali_dataset.csv', delimiter=';')\n",
        "# recommended_places = bali_dataset.loc[recommended_tourism_ids, 'place']\n",
        "# recommended_places"
      ]
    },
    {
      "cell_type": "code",
      "execution_count": 84,
      "metadata": {},
      "outputs": [
        {
          "name": "stdout",
          "output_type": "stream",
          "text": [
            "Epoch 1/20\n",
            "229/229 [==============================] - 4s 6ms/step - loss: 3.1111\n",
            "Epoch 2/20\n",
            "229/229 [==============================] - 1s 5ms/step - loss: 1.8728\n",
            "Epoch 3/20\n",
            "229/229 [==============================] - 1s 4ms/step - loss: 1.8360\n",
            "Epoch 4/20\n",
            "229/229 [==============================] - 1s 5ms/step - loss: 1.8242\n",
            "Epoch 5/20\n",
            "229/229 [==============================] - 1s 4ms/step - loss: 1.8093\n",
            "Epoch 6/20\n",
            "229/229 [==============================] - 1s 4ms/step - loss: 1.8136\n",
            "Epoch 7/20\n",
            "229/229 [==============================] - 1s 3ms/step - loss: 1.8045\n",
            "Epoch 8/20\n",
            "229/229 [==============================] - 1s 5ms/step - loss: 1.7982\n",
            "Epoch 9/20\n",
            "229/229 [==============================] - 2s 7ms/step - loss: 1.7928\n",
            "Epoch 10/20\n",
            "229/229 [==============================] - 1s 4ms/step - loss: 1.7915\n",
            "Epoch 11/20\n",
            "229/229 [==============================] - 1s 3ms/step - loss: 1.7730\n",
            "Epoch 12/20\n",
            "229/229 [==============================] - 1s 3ms/step - loss: 1.7459\n",
            "Epoch 13/20\n",
            "229/229 [==============================] - 1s 4ms/step - loss: 1.7136\n",
            "Epoch 14/20\n",
            "229/229 [==============================] - 1s 3ms/step - loss: 1.6731\n",
            "Epoch 15/20\n",
            "229/229 [==============================] - 1s 3ms/step - loss: 1.6401\n",
            "Epoch 16/20\n",
            "229/229 [==============================] - 1s 3ms/step - loss: 1.6137\n",
            "Epoch 17/20\n",
            "229/229 [==============================] - 1s 4ms/step - loss: 1.5793\n",
            "Epoch 18/20\n",
            "229/229 [==============================] - 1s 4ms/step - loss: 1.5603\n",
            "Epoch 19/20\n",
            "229/229 [==============================] - 1s 4ms/step - loss: 1.5366\n",
            "Epoch 20/20\n",
            "229/229 [==============================] - 1s 4ms/step - loss: 1.5099\n"
          ]
        },
        {
          "name": "stderr",
          "output_type": "stream",
          "text": [
            "c:\\Users\\u\\AppData\\Local\\Programs\\Python\\Python39\\lib\\site-packages\\keras\\src\\engine\\training.py:3103: UserWarning: You are saving your model as an HDF5 file via `model.save()`. This file format is considered legacy. We recommend using instead the native Keras format, e.g. `model.save('my_model.keras')`.\n",
            "  saving_api.save_model(\n"
          ]
        }
      ],
      "source": [
        "history, model = create_model()\n",
        "model.save('../model.h5')"
      ]
    },
    {
      "cell_type": "code",
      "execution_count": 77,
      "metadata": {},
      "outputs": [],
      "source": [
        "def create_final_data(list_of_idx):\n",
        "    new_df = df_destination[df_destination.index.isin(list_of_idx)].copy()\n",
        "    list_of_dest = []\n",
        "\n",
        "    for row in new_df.iterrows():\n",
        "        dest_dict = {}\n",
        "        dest_dict['place'] = row[1]['place']\n",
        "        dest_dict['url'] = row[1]['url']\n",
        "        dest_dict['address'] = row[1]['address']\n",
        "        dest_dict['is_accessibility'] = row[1]['is_accessibility']\n",
        "        dest_dict['rating'] = row[1]['rating']\n",
        "        dest_dict['n_reviews'] = row[1]['n_reviews']\n",
        "        dest_dict['price'] = row[1]['price']\n",
        "        dest_dict['category'] = row[1]['category']\n",
        "        dest_dict['description'] = row[1]['description']\n",
        "        list_of_dest.append(dest_dict)\n",
        "    \n",
        "    return list_of_dest"
      ]
    },
    {
      "cell_type": "code",
      "execution_count": 85,
      "metadata": {},
      "outputs": [],
      "source": [
        "model.save('../model.h5')\n",
        "model = tf.keras.models.load_model('../model.h5')\n"
      ]
    },
    {
      "cell_type": "code",
      "execution_count": 83,
      "metadata": {},
      "outputs": [],
      "source": [
        "def might_like(idx_user, model=model):\n",
        "    tourism_data = np.array(list(set(df_user.Place_Id)))\n",
        "    user = np.array([idx_user]*len(tourism_data))\n",
        "\n",
        "    \n",
        "    predictions = model.predict([user, tourism_data])\n",
        "    predictions = np.array([a[0] for a in predictions])\n",
        "    \n",
        "    recommended_tourism_idx = (-predictions).argsort()[:10]\n",
        "    \n",
        "    #convert index to data place\n",
        "    data = create_final_data(recommended_tourism_idx)\n",
        "    return data"
      ]
    },
    {
      "cell_type": "code",
      "execution_count": 79,
      "metadata": {},
      "outputs": [
        {
          "name": "stdout",
          "output_type": "stream",
          "text": [
            "7/7 [==============================] - 0s 3ms/step\n"
          ]
        },
        {
          "data": {
            "text/plain": [
              "[{'place': 'Kedungu beach Bali',\n",
              "  'url': 'https://www.google.com/maps/place/Kedungu+beach+Bali/@-8.7226249,114.592745,10z/data=!4m11!1m3!2m2!1spantai+di+bali!6e1!3m6!1s0x2dd2377ae58eba1b:0x8665f5f539b81682!8m2!3d-8.6088824!4d115.083265!15sCg5wYW50YWkgZGkgYmFsaVoQIg5wYW50YWkgZGkgYmFsaZIBBWJlYWNo4AEA!16s%2Fg%2F11b6hlpmbp?entry=ttu',\n",
              "  'address': 'Jl. Pantai Kedungu, Desa Belalang, Belalang, Kediri, Tabanan Regency, Bali',\n",
              "  'is_accessibility': 0,\n",
              "  'rating': 4.4,\n",
              "  'n_reviews': 1817,\n",
              "  'price': 15000,\n",
              "  'category': 'Pantai',\n",
              "  'description': 'A beach with waves suitable for surfing, Kedungu Beach also offers stunning sunset views. The beach is frequented by surfers and visitors who want to enjoy the relaxed and natural atmosphere of the beach.'},\n",
              " {'place': 'Pantai Ciwa',\n",
              "  'url': 'https://www.google.com/maps/place/Pantai+Ciwa/@-8.438572,114.84591,17z/data=!3m1!4b1!4m6!3m5!1s0x2dd3d30fee57acbd:0xb2f8b6dc49b14c5f!8m2!3d-8.4385773!4d114.8484849!16s%2Fg%2F11r9h0yl2l?entry=ttu',\n",
              "  'address': 'HR6X+H99, Jl. Ciwa, Pekutatan, Kec. Pekutatan, Kabupaten Jembrana, Bali 82262',\n",
              "  'is_accessibility': 0,\n",
              "  'rating': 4.5,\n",
              "  'n_reviews': 4,\n",
              "  'price': 15000,\n",
              "  'category': 'Pantai',\n",
              "  'description': 'A quiet beach with wide ocean views and distinctive black sand. Ciwa Beach is suitable for visitors who seek tranquility and want to enjoy the beauty of nature without many crowds. Its relatively hidden location makes this beach an ideal place for relaxation.'},\n",
              " {'place': 'PANTAI SERIRIT',\n",
              "  'url': 'https://www.google.com/maps/place/PANTAI+SERIRIT/@-8.183443,114.936145,17z/data=!4m15!1m8!3m7!1s0x2dd19dba92222eb7:0xadab9e12b13d7771!2sPANTAI+SERIRIT!8m2!3d-8.1834483!4d114.9387199!10e1!16s%2Fg%2F11t2b2wk3q!3m5!1s0x2dd19dba92222eb7:0xadab9e12b13d7771!8m2!3d-8.1834483!4d114.9387199!16s%2Fg%2F11t2b2wk3q?entry=ttu',\n",
              "  'address': 'RW8Q+JFH, Seririt, Kec. Seririt, Kabupaten Buleleng, Bali 81153',\n",
              "  'is_accessibility': 0,\n",
              "  'rating': 4.6,\n",
              "  'n_reviews': 17,\n",
              "  'price': 15000,\n",
              "  'category': 'Pantai',\n",
              "  'description': 'The beach offers distinctive volcanic black sand and a calm atmosphere, perfect for relaxing and enjoying the ocean view. Seririt Beach is an ideal place for visitors seeking tranquility away from the crowds, with activities such as swimming, strolling by the beach, or simply enjoying the sunset.'},\n",
              " {'place': 'Bali Budaya Cultural Village',\n",
              "  'url': 'https://www.google.com/maps/place/Bali+Budaya+Cultural+Village/@-8.551392,115.2807808,17z/data=!3m1!4b1!4m6!3m5!1s0x2dd23df7d0ac528d:0xe69e7e3b20e1fcdf!8m2!3d-8.5513973!4d115.2833557!16s%2Fg%2F11b73jhpn_?entry=ttu',\n",
              "  'address': 'Jalan Raya Ir. Utami, Br. Batusepih - Kemenuh, Kemenuh, Sukawati, Gianyar Regency, Bali 80582',\n",
              "  'is_accessibility': 1,\n",
              "  'rating': 4.6,\n",
              "  'n_reviews': 131,\n",
              "  'price': 15000,\n",
              "  'category': 'Sejarah',\n",
              "  'description': \"Bali Budaya Cultural Village is a tourist village that provides an in-depth experience of Balinese culture. The village offers various cultural activities such as traditional dances, handicraft making, and traditional ceremonies. Visitors can learn about the daily life of Balinese people, take part in arts and crafts workshops, and enjoy Balinese culinary specialties. The village also frequently organizes art and cultural performances that showcase the beauty and uniqueness of Balinese traditions. With beautiful surroundings and an atmosphere steeped in Balinese culture, this village is the perfect place to understand more about Bali's cultural heritage.\"},\n",
              " {'place': 'Taman Werdhi Budaya Art Centre',\n",
              "  'url': 'https://www.google.com/maps/place/Taman+Werdhi+Budaya+Art+Centre/@-8.6556215,115.215847,15z/data=!4m11!1m3!2m2!1smonumen+di+bali!6e1!3m6!1s0x2dd2408774ac0e19:0xee8eace99d65c91e!8m2!3d-8.6556215!4d115.2338714!15sCg9tb251bWVuIGRpIGJhbGlaESIPbW9udW1lbiBkaSBiYWxpkgEKYXJ0X2NlbnRlcpoBI0NoWkRTVWhOTUc5blMwVkpRMEZuU1VSUE5VeGxjMkZCRUFF4AEA!16s%2Fg%2F11h84jtrpx?entry=ttu',\n",
              "  'address': 'Jl. Nusa Indah No.1, Panjer, Denpasar Selatan, Kota Denpasar, Bali 80236',\n",
              "  'is_accessibility': 1,\n",
              "  'rating': 4.6,\n",
              "  'n_reviews': 9122,\n",
              "  'price': 50000,\n",
              "  'category': 'Sejarah',\n",
              "  'description': 'Handicraft galleries & an outdoor theater for Balinese dancing amid traditional gates & pavilions.'},\n",
              " {'place': 'Pantai Pandawa',\n",
              "  'url': 'https://www.google.com/maps/place/Pantai+Pandawa/@-8.7226249,114.592745,10z/data=!4m11!1m3!2m2!1spantai+di+bali!6e1!3m6!1s0x2dd25b04f214986d:0x7277dbadb45a6499!8m2!3d-8.8454504!4d115.1866116!15sCg5wYW50YWkgZGkgYmFsaVoQIg5wYW50YWkgZGkgYmFsaZIBEnRvdXJpc3RfYXR0cmFjdGlvbuABAA!16s%2Fg%2F12q4w015p?entry=ttu',\n",
              "  'address': '553P+R5G, Jl. Pantai Pandawa, Kutuh, Kec. Kuta Sel., Kabupaten Badung, Bali 80361',\n",
              "  'is_accessibility': 1,\n",
              "  'rating': 4.6,\n",
              "  'n_reviews': 42915,\n",
              "  'price': 15000,\n",
              "  'category': 'Pantai',\n",
              "  'description': 'Initially, Pandawa Beach was known as Secret Beach because of its hidden location behind a row of rocky hills and overgrown bushes. However, access to it is now more accessible by motor vehicles. The road access deliberately made by cutting through the towering limestone hills makes the scenery around the beach very exotic. On the beachside, the limestone cliffs are hollowed out and carved with beautiful character engravings as the places of the Pandawa Lima in the Mahabharata story.'},\n",
              " {'place': 'Patung Catur Muka',\n",
              "  'url': 'https://www.google.com/maps/place/Patung+Catur+Muka/@-8.6490945,115.199541,15z/data=!4m11!1m3!2m2!1smonumen+di+bali!6e1!3m6!1s0x2dd240993f2d6781:0x4cae42f415506e2!8m2!3d-8.6559667!4d115.2169412!15sCg9tb251bWVuIGRpIGJhbGlaESIPbW9udW1lbiBkaSBiYWxpkgEJc2N1bHB0dXJlmgEjQ2haRFNVaE5NRzluUzBWSlEwRm5TVU5QY0dSdFZsTm5FQUXgAQA!16s%2Fg%2F11b7dyntz6?entry=ttu',\n",
              "  'address': '86V8+JQ8, Dangin Puri Kauh, Kec. Denpasar Utara, Kota Denpasar, Bali 80232',\n",
              "  'is_accessibility': 0,\n",
              "  'rating': 4.7,\n",
              "  'n_reviews': 624,\n",
              "  'price': 15000,\n",
              "  'category': 'Sejarah',\n",
              "  'description': 'The Catur Muka Statue is a statue depicting the god Brahma in a four-faced form, symbolizing diversity and complexity in Hinduism. This statue is located in the Kuta area, Bali, and often becomes an attractive object for tourists to visit and photograph. Catur Muka symbolizes aspects of Sang Hyang Widhi Wasa in Hindu belief and is an important part of worship and offerings in Bali.'},\n",
              " {'place': 'Pantai Mengening',\n",
              "  'url': 'https://www.google.com/maps/place/Pantai+Mengening/@-8.7226249,114.592745,10z/data=!4m11!1m3!2m2!1spantai+di+bali!6e1!3m6!1s0x2dd23821f5031d75:0xc34126863786026b!8m2!3d-8.6395322!4d115.1007188!15sCg5wYW50YWkgZGkgYmFsaVoQIg5wYW50YWkgZGkgYmFsaZIBEnRvdXJpc3RfYXR0cmFjdGlvbpoBI0NoWkRTVWhOTUc5blMwVkpRMEZuU1VReU9XSXpTa3RSRUFF4AEA!16s%2Fg%2F11bv30m61d?entry=ttu',\n",
              "  'address': 'Cemagi, Kec. Mengwi, Kabupaten Badung, Bali',\n",
              "  'is_accessibility': 0,\n",
              "  'rating': 4.7,\n",
              "  'n_reviews': 1809,\n",
              "  'price': 15000,\n",
              "  'category': 'Pantai',\n",
              "  'description': 'Mengening Beach is a beautiful beach with soft black sand and clear seawater. This beach is famous for its stunning sunset views. Here, you can also find a Hindu temple located on a rock.'},\n",
              " {'place': 'Brahmavihara Arama',\n",
              "  'url': 'https://www.google.com/maps/place/Brahmavihara+Arama/@-8.2105884,114.97143,17z/data=!3m1!4b1!4m6!3m5!1s0x2dd18312c25ac867:0x5305db0197bf2426!8m2!3d-8.2105937!4d114.9740049!16s%2Fg%2F11c54c6ny9?entry=ttu',\n",
              "  'address': 'Banjar Dinas Tangeb, Banjar Tegeha, Kec. Banjar, Kabupaten Buleleng, Bali 81152',\n",
              "  'is_accessibility': 0,\n",
              "  'rating': 4.7,\n",
              "  'n_reviews': 2019,\n",
              "  'price': 25000,\n",
              "  'category': 'Sejarah',\n",
              "  'description': 'The largest Buddhist monastery in Bali with tranquil gardens, meditation rooms, and a library.'},\n",
              " {'place': 'Uluwatu Temple',\n",
              "  'url': 'https://www.google.com/maps/place/Uluwatu+Temple/@-8.8293567,115.0851721,17z/data=!3m1!4b1!4m5!3m4!1s0x2dd24ffc20cb8191:0xcb98d1ba7db0495!8m2!3d-8.8291432!4d115.0849069',\n",
              "  'address': 'Pecatu, South Kuta, Badung Regency, Bali',\n",
              "  'is_accessibility': 1,\n",
              "  'rating': 4.6,\n",
              "  'n_reviews': 28800,\n",
              "  'price': 30000,\n",
              "  'category': 'Sejarah',\n",
              "  'description': 'The temple is regarded as one of the sad kahyangan and is dedicated to Sang Hyang Widhi Wasa in his manifestation as Rudra.[1]'}]"
            ]
          },
          "execution_count": 79,
          "metadata": {},
          "output_type": "execute_result"
        }
      ],
      "source": [
        "idx_user = 5\n",
        "get_recom = might_like(idx_user)\n",
        "get_recom"
      ]
    }
  ],
  "metadata": {
    "colab": {
      "provenance": []
    },
    "kernelspec": {
      "display_name": "Python 3",
      "name": "python3"
    },
    "language_info": {
      "codemirror_mode": {
        "name": "ipython",
        "version": 3
      },
      "file_extension": ".py",
      "mimetype": "text/x-python",
      "name": "python",
      "nbconvert_exporter": "python",
      "pygments_lexer": "ipython3",
      "version": "3.9.2"
    }
  },
  "nbformat": 4,
  "nbformat_minor": 0
}
