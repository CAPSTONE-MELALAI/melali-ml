{
  "cells": [
    {
      "cell_type": "code",
      "execution_count": 53,
      "metadata": {
        "id": "tZfbBdJ_nzQq"
      },
      "outputs": [],
      "source": [
        "import numpy as np\n",
        "import pandas as pd\n",
        "import tensorflow as tf\n",
        "\n"
      ]
    },
    {
      "cell_type": "code",
      "execution_count": 54,
      "metadata": {
        "id": "Tf_ucW1ctJqq"
      },
      "outputs": [],
      "source": [
        "user_rating = pd.read_csv('../../dataset/user_rating.csv')\n",
        "place_num = len(user_rating.Place_Id.unique())\n",
        "n_users = len(user_rating.User_Id.unique())\n",
        "\n"
      ]
    },
    {
      "cell_type": "code",
      "execution_count": 55,
      "metadata": {},
      "outputs": [],
      "source": [
        "df_destination = pd.read_csv('../../dataset/new_bali_dataset.csv', delimiter=';', header=0)\n",
        "df_destination['price'].fillna(0, inplace=True)\n",
        "df_destination['category'].fillna('unknown', inplace=True)"
      ]
    },
    {
      "cell_type": "code",
      "execution_count": 56,
      "metadata": {
        "id": "L2J80X-kvR6G"
      },
      "outputs": [],
      "source": [
        "from sklearn.model_selection import train_test_split\n",
        "train, test = train_test_split(user_rating, test_size=0.2, random_state=42)"
      ]
    },
    {
      "cell_type": "code",
      "execution_count": 57,
      "metadata": {
        "id": "5I169R6pv-bc"
      },
      "outputs": [],
      "source": [
        "def create_model():\n",
        "    # creating destination embedding path\n",
        "    destination_input = Input(shape=[1])\n",
        "    destination_embedding = Embedding(place_num+1, 5)(destination_input)\n",
        "    destination_flat = Flatten()(destination_embedding)\n",
        "\n",
        "    # creating user embedding path\n",
        "    user_input = Input(shape=[1])\n",
        "    user_embedding = Embedding(n_users+1, 5)(user_input)\n",
        "    user_flat = Flatten()(user_embedding)\n",
        "\n",
        "    # concatenate features\n",
        "    conc = Concatenate()([destination_flat, user_flat])\n",
        "\n",
        "    # add fully-connected-layers\n",
        "    x = Dense(128, activation='relu')(conc)\n",
        "    x = Dense(64, activation='relu')(x)\n",
        "    output = Dense(1)(x)\n",
        "\n",
        "    # Create model and compile it\n",
        "    model = Model([user_input, destination_input], output)\n",
        "    model.compile('adam', 'mean_squared_error')\n",
        "    history = model.fit([train.User_Id, train.Place_Id], train.Place_Ratings, epochs=20)\n",
        "    return history, model"
      ]
    },
    {
      "cell_type": "markdown",
      "metadata": {
        "id": "SM0moezXTwmv"
      },
      "source": [
        "Predict"
      ]
    },
    {
      "cell_type": "code",
      "execution_count": 58,
      "metadata": {
        "colab": {
          "base_uri": "https://localhost:8080/"
        },
        "id": "J4AChC04s4Uh",
        "outputId": "5e4f633f-d3a5-4bf9-8675-36e4f7638c45"
      },
      "outputs": [],
      "source": [
        "# bali_dataset = pd.read_csv('../../dataset/new_bali_dataset.csv', delimiter=';')\n",
        "# recommended_places = bali_dataset.loc[recommended_tourism_ids, 'place']\n",
        "# recommended_places"
      ]
    },
    {
      "cell_type": "code",
      "execution_count": 59,
      "metadata": {},
      "outputs": [
        {
          "name": "stdout",
          "output_type": "stream",
          "text": [
            "Epoch 1/20\n",
            "229/229 [==============================] - 3s 3ms/step - loss: 3.1715\n",
            "Epoch 2/20\n",
            "229/229 [==============================] - 1s 4ms/step - loss: 1.8766\n",
            "Epoch 3/20\n",
            "229/229 [==============================] - 1s 4ms/step - loss: 1.8366\n",
            "Epoch 4/20\n",
            "229/229 [==============================] - 1s 3ms/step - loss: 1.8203\n",
            "Epoch 5/20\n",
            "229/229 [==============================] - 1s 4ms/step - loss: 1.8094\n",
            "Epoch 6/20\n",
            "229/229 [==============================] - 1s 3ms/step - loss: 1.8118\n",
            "Epoch 7/20\n",
            "229/229 [==============================] - 1s 3ms/step - loss: 1.8002\n",
            "Epoch 8/20\n",
            "229/229 [==============================] - 1s 4ms/step - loss: 1.8081\n",
            "Epoch 9/20\n",
            "229/229 [==============================] - 1s 4ms/step - loss: 1.8075\n",
            "Epoch 10/20\n",
            "229/229 [==============================] - 1s 3ms/step - loss: 1.7943\n",
            "Epoch 11/20\n",
            "229/229 [==============================] - 1s 4ms/step - loss: 1.7866\n",
            "Epoch 12/20\n",
            "229/229 [==============================] - 1s 4ms/step - loss: 1.7820\n",
            "Epoch 13/20\n",
            "229/229 [==============================] - 1s 3ms/step - loss: 1.7680\n",
            "Epoch 14/20\n",
            "229/229 [==============================] - 1s 4ms/step - loss: 1.7410\n",
            "Epoch 15/20\n",
            "229/229 [==============================] - 1s 5ms/step - loss: 1.7120\n",
            "Epoch 16/20\n",
            "229/229 [==============================] - 1s 5ms/step - loss: 1.6703\n",
            "Epoch 17/20\n",
            "229/229 [==============================] - 1s 5ms/step - loss: 1.6275\n",
            "Epoch 18/20\n",
            "229/229 [==============================] - 1s 4ms/step - loss: 1.5850\n",
            "Epoch 19/20\n",
            "229/229 [==============================] - 1s 4ms/step - loss: 1.5539\n",
            "Epoch 20/20\n",
            "229/229 [==============================] - 1s 4ms/step - loss: 1.5147\n"
          ]
        }
      ],
      "source": [
        "history, model = create_model()\n"
      ]
    },
    {
      "cell_type": "code",
      "execution_count": 73,
      "metadata": {},
      "outputs": [],
      "source": [
        "def create_final_data(list_of_idx):\n",
        "    new_df = df_destination[df_destination.index.isin(list_of_idx)].copy()\n",
        "    list_of_dest = []\n",
        "\n",
        "    for row in new_df.iterrows():\n",
        "        dest_dict = {}\n",
        "        dest_dict['place'] = row[1]['place']\n",
        "        dest_dict['url'] = row[1]['url']\n",
        "        dest_dict['address'] = row[1]['address']\n",
        "        dest_dict['is_accessibility'] = row[1]['is_accessibility']\n",
        "        dest_dict['rating'] = row[1]['rating']\n",
        "        dest_dict['n_reviews'] = row[1]['n_reviews']\n",
        "        dest_dict['price'] = row[1]['price']\n",
        "        dest_dict['category'] = row[1]['category']\n",
        "        dest_dict['description'] = row[1]['description']\n",
        "        list_of_dest.append(dest_dict)\n",
        "    \n",
        "    return list_of_dest"
      ]
    },
    {
      "cell_type": "code",
      "execution_count": 75,
      "metadata": {},
      "outputs": [],
      "source": [
        "def might_like(idx_user, model=model):\n",
        "    tourism_data = np.array(list(set(user_rating.Place_Id)))\n",
        "    user = np.array([idx_user]*len(tourism_data))\n",
        "\n",
        "    \n",
        "    predictions = model.predict([user, tourism_data])\n",
        "    predictions = np.array([a[0] for a in predictions])\n",
        "    \n",
        "    recommended_tourism_idx = (-predictions).argsort()[:10]\n",
        "    \n",
        "    #convert index to data place\n",
        "    data = create_final_data(recommended_tourism_idx)\n",
        "    return data"
      ]
    },
    {
      "cell_type": "code",
      "execution_count": 76,
      "metadata": {},
      "outputs": [
        {
          "name": "stdout",
          "output_type": "stream",
          "text": [
            "7/7 [==============================] - 0s 1ms/step\n"
          ]
        },
        {
          "data": {
            "text/plain": [
              "[{'place': 'Kedungu beach Bali', 'rating': 4.4},\n",
              " {'place': 'Pantai Ciwa', 'rating': 4.5},\n",
              " {'place': 'PANTAI SERIRIT', 'rating': 4.6},\n",
              " {'place': 'Bali Budaya Cultural Village', 'rating': 4.6},\n",
              " {'place': 'Taman Werdhi Budaya Art Centre', 'rating': 4.6},\n",
              " {'place': 'Pantai Pandawa', 'rating': 4.6},\n",
              " {'place': 'Patung Catur Muka', 'rating': 4.7},\n",
              " {'place': 'Pantai Mengening', 'rating': 4.7},\n",
              " {'place': 'Brahmavihara Arama', 'rating': 4.7},\n",
              " {'place': 'Uluwatu Temple', 'rating': 4.6}]"
            ]
          },
          "execution_count": 76,
          "metadata": {},
          "output_type": "execute_result"
        }
      ],
      "source": [
        "idx_user = 5\n",
        "get_recom = might_like(idx_user)\n",
        "get_recom"
      ]
    }
  ],
  "metadata": {
    "colab": {
      "provenance": []
    },
    "kernelspec": {
      "display_name": "Python 3",
      "name": "python3"
    },
    "language_info": {
      "codemirror_mode": {
        "name": "ipython",
        "version": 3
      },
      "file_extension": ".py",
      "mimetype": "text/x-python",
      "name": "python",
      "nbconvert_exporter": "python",
      "pygments_lexer": "ipython3",
      "version": "3.9.2"
    }
  },
  "nbformat": 4,
  "nbformat_minor": 0
}
