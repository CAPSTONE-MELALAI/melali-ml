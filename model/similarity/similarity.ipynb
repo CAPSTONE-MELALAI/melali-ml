{
 "cells": [
  {
   "cell_type": "code",
   "execution_count": 29,
   "metadata": {},
   "outputs": [],
   "source": [
    "import pandas as pd\n",
    "import numpy as np\n",
    "from nltk.corpus import stopwords\n",
    "from nltk.tokenize import RegexpTokenizer\n",
    "import re\n",
    "\n",
    "from sklearn.feature_extraction.text import TfidfVectorizer\n",
    "from sklearn.metrics.pairwise import cosine_similarity"
   ]
  },
  {
   "cell_type": "code",
   "execution_count": 30,
   "metadata": {},
   "outputs": [
    {
     "data": {
      "text/html": [
       "<div>\n",
       "<style scoped>\n",
       "    .dataframe tbody tr th:only-of-type {\n",
       "        vertical-align: middle;\n",
       "    }\n",
       "\n",
       "    .dataframe tbody tr th {\n",
       "        vertical-align: top;\n",
       "    }\n",
       "\n",
       "    .dataframe thead th {\n",
       "        text-align: right;\n",
       "    }\n",
       "</style>\n",
       "<table border=\"1\" class=\"dataframe\">\n",
       "  <thead>\n",
       "    <tr style=\"text-align: right;\">\n",
       "      <th></th>\n",
       "      <th>index</th>\n",
       "      <th>place</th>\n",
       "      <th>url</th>\n",
       "      <th>is_accessibility</th>\n",
       "      <th>rating</th>\n",
       "      <th>n_reviews</th>\n",
       "      <th>address</th>\n",
       "      <th>price</th>\n",
       "      <th>idx_category</th>\n",
       "      <th>category</th>\n",
       "      <th>description</th>\n",
       "      <th>lat</th>\n",
       "      <th>long</th>\n",
       "      <th>Coordinate</th>\n",
       "    </tr>\n",
       "  </thead>\n",
       "  <tbody>\n",
       "    <tr>\n",
       "      <th>0</th>\n",
       "      <td>0</td>\n",
       "      <td>Pura Puseh Desa Adat Kutri</td>\n",
       "      <td>https://www.google.com/maps/place/Pura+Puseh+D...</td>\n",
       "      <td>0</td>\n",
       "      <td>3.0</td>\n",
       "      <td>1</td>\n",
       "      <td>F863+W53, Buruan, Kec. Blahbatuh, Kabupaten Gi...</td>\n",
       "      <td>15000</td>\n",
       "      <td>0</td>\n",
       "      <td>Sejarah</td>\n",
       "      <td>Pura Puseh is one of the oldest temples in Bal...</td>\n",
       "      <td>-8.514987</td>\n",
       "      <td>115.298791</td>\n",
       "      <td>-8.514986706754593, 115.29879103124946</td>\n",
       "    </tr>\n",
       "    <tr>\n",
       "      <th>1</th>\n",
       "      <td>1</td>\n",
       "      <td>Pura Dalem Begawan</td>\n",
       "      <td>https://www.google.com/maps/place/Pura+Dalem+B...</td>\n",
       "      <td>0</td>\n",
       "      <td>3.0</td>\n",
       "      <td>2</td>\n",
       "      <td>8682+87P, Dauh Puri Kauh, Kec. Denpasar Bar., ...</td>\n",
       "      <td>15000</td>\n",
       "      <td>0</td>\n",
       "      <td>Sejarah</td>\n",
       "      <td>Located near the Petanu River, Pura Dalem Bega...</td>\n",
       "      <td>-8.682596</td>\n",
       "      <td>115.200610</td>\n",
       "      <td>-8.682595632877103, 115.20061015733499</td>\n",
       "    </tr>\n",
       "    <tr>\n",
       "      <th>2</th>\n",
       "      <td>2</td>\n",
       "      <td>D'tukad Desa Budaya Kertalangu</td>\n",
       "      <td>https://www.google.com/maps/place/D'tukad+Desa...</td>\n",
       "      <td>0</td>\n",
       "      <td>3.6</td>\n",
       "      <td>9</td>\n",
       "      <td>9744+WJQ, Kesiman Kertalangu, Kec. Denpasar Ti...</td>\n",
       "      <td>20000</td>\n",
       "      <td>0</td>\n",
       "      <td>Sejarah</td>\n",
       "      <td>D'tukad Desa Budaya Kertalangu is a cultural t...</td>\n",
       "      <td>-8.639347</td>\n",
       "      <td>115.257474</td>\n",
       "      <td>-8.639347199121982, 115.25747408289917</td>\n",
       "    </tr>\n",
       "    <tr>\n",
       "      <th>3</th>\n",
       "      <td>3</td>\n",
       "      <td>Desa Adat Cangkup</td>\n",
       "      <td>https://www.google.com/maps/place/Desa+Adat+Ca...</td>\n",
       "      <td>0</td>\n",
       "      <td>3.7</td>\n",
       "      <td>3</td>\n",
       "      <td>Pupuan Sawah, Kec. Selemadeg, Kabupaten Tabana...</td>\n",
       "      <td>15000</td>\n",
       "      <td>0</td>\n",
       "      <td>Sejarah</td>\n",
       "      <td>Desa Adat Cangkup is a traditional village tha...</td>\n",
       "      <td>-8.439189</td>\n",
       "      <td>115.051934</td>\n",
       "      <td>-8.43918883821229, 115.05193408611053</td>\n",
       "    </tr>\n",
       "    <tr>\n",
       "      <th>4</th>\n",
       "      <td>4</td>\n",
       "      <td>Monumen Perjuangan Desa Tegaljadi</td>\n",
       "      <td>https://www.google.com/maps/place/Monumen+Perj...</td>\n",
       "      <td>0</td>\n",
       "      <td>4.0</td>\n",
       "      <td>1</td>\n",
       "      <td>G585+J3, Tegaljadi, Kec. Marga, Kabupaten Taba...</td>\n",
       "      <td>15000</td>\n",
       "      <td>0</td>\n",
       "      <td>Sejarah</td>\n",
       "      <td>This monument was erected to commemorate the s...</td>\n",
       "      <td>-8.483242</td>\n",
       "      <td>115.157706</td>\n",
       "      <td>-8.4832418767373, 115.15770565767143</td>\n",
       "    </tr>\n",
       "  </tbody>\n",
       "</table>\n",
       "</div>"
      ],
      "text/plain": [
       "   index                              place  \\\n",
       "0      0         Pura Puseh Desa Adat Kutri   \n",
       "1      1                 Pura Dalem Begawan   \n",
       "2      2     D'tukad Desa Budaya Kertalangu   \n",
       "3      3                  Desa Adat Cangkup   \n",
       "4      4  Monumen Perjuangan Desa Tegaljadi   \n",
       "\n",
       "                                                 url  is_accessibility  \\\n",
       "0  https://www.google.com/maps/place/Pura+Puseh+D...                 0   \n",
       "1  https://www.google.com/maps/place/Pura+Dalem+B...                 0   \n",
       "2  https://www.google.com/maps/place/D'tukad+Desa...                 0   \n",
       "3  https://www.google.com/maps/place/Desa+Adat+Ca...                 0   \n",
       "4  https://www.google.com/maps/place/Monumen+Perj...                 0   \n",
       "\n",
       "   rating  n_reviews                                            address  \\\n",
       "0     3.0          1  F863+W53, Buruan, Kec. Blahbatuh, Kabupaten Gi...   \n",
       "1     3.0          2  8682+87P, Dauh Puri Kauh, Kec. Denpasar Bar., ...   \n",
       "2     3.6          9  9744+WJQ, Kesiman Kertalangu, Kec. Denpasar Ti...   \n",
       "3     3.7          3  Pupuan Sawah, Kec. Selemadeg, Kabupaten Tabana...   \n",
       "4     4.0          1  G585+J3, Tegaljadi, Kec. Marga, Kabupaten Taba...   \n",
       "\n",
       "   price  idx_category category  \\\n",
       "0  15000             0  Sejarah   \n",
       "1  15000             0  Sejarah   \n",
       "2  20000             0  Sejarah   \n",
       "3  15000             0  Sejarah   \n",
       "4  15000             0  Sejarah   \n",
       "\n",
       "                                         description       lat        long  \\\n",
       "0  Pura Puseh is one of the oldest temples in Bal... -8.514987  115.298791   \n",
       "1  Located near the Petanu River, Pura Dalem Bega... -8.682596  115.200610   \n",
       "2  D'tukad Desa Budaya Kertalangu is a cultural t... -8.639347  115.257474   \n",
       "3  Desa Adat Cangkup is a traditional village tha... -8.439189  115.051934   \n",
       "4  This monument was erected to commemorate the s... -8.483242  115.157706   \n",
       "\n",
       "                               Coordinate  \n",
       "0  -8.514986706754593, 115.29879103124946  \n",
       "1  -8.682595632877103, 115.20061015733499  \n",
       "2  -8.639347199121982, 115.25747408289917  \n",
       "3   -8.43918883821229, 115.05193408611053  \n",
       "4    -8.4832418767373, 115.15770565767143  "
      ]
     },
     "execution_count": 30,
     "metadata": {},
     "output_type": "execute_result"
    }
   ],
   "source": [
    "df = pd.read_csv('../../dataset/new_bali_dataset.csv', delimiter=';')\n",
    "df.head()"
   ]
  },
  {
   "cell_type": "code",
   "execution_count": 31,
   "metadata": {},
   "outputs": [
    {
     "data": {
      "text/plain": [
       "(195, 14)"
      ]
     },
     "execution_count": 31,
     "metadata": {},
     "output_type": "execute_result"
    }
   ],
   "source": [
    "df.shape"
   ]
  },
  {
   "cell_type": "markdown",
   "metadata": {},
   "source": [
    "# Preproses"
   ]
  },
  {
   "cell_type": "code",
   "execution_count": 32,
   "metadata": {},
   "outputs": [
    {
     "name": "stdout",
     "output_type": "stream",
     "text": [
      "<class 'pandas.core.frame.DataFrame'>\n",
      "RangeIndex: 195 entries, 0 to 194\n",
      "Data columns (total 14 columns):\n",
      " #   Column            Non-Null Count  Dtype  \n",
      "---  ------            --------------  -----  \n",
      " 0   index             195 non-null    int64  \n",
      " 1   place             195 non-null    object \n",
      " 2   url               195 non-null    object \n",
      " 3   is_accessibility  195 non-null    int64  \n",
      " 4   rating            195 non-null    float64\n",
      " 5   n_reviews         195 non-null    int64  \n",
      " 6   address           195 non-null    object \n",
      " 7   price             195 non-null    int64  \n",
      " 8   idx_category      195 non-null    int64  \n",
      " 9   category          195 non-null    object \n",
      " 10  description       195 non-null    object \n",
      " 11  lat               195 non-null    float64\n",
      " 12  long              195 non-null    float64\n",
      " 13  Coordinate        195 non-null    object \n",
      "dtypes: float64(3), int64(5), object(6)\n",
      "memory usage: 21.5+ KB\n"
     ]
    }
   ],
   "source": [
    "df.info()\n"
   ]
  },
  {
   "cell_type": "code",
   "execution_count": 33,
   "metadata": {},
   "outputs": [],
   "source": [
    "df['price'].fillna(0, inplace=True)\n",
    "df['category'].fillna('unknown', inplace=True)\n"
   ]
  },
  {
   "cell_type": "code",
   "execution_count": 34,
   "metadata": {},
   "outputs": [
    {
     "name": "stdout",
     "output_type": "stream",
     "text": [
      "<class 'pandas.core.frame.DataFrame'>\n",
      "RangeIndex: 195 entries, 0 to 194\n",
      "Data columns (total 14 columns):\n",
      " #   Column            Non-Null Count  Dtype  \n",
      "---  ------            --------------  -----  \n",
      " 0   index             195 non-null    int64  \n",
      " 1   place             195 non-null    object \n",
      " 2   url               195 non-null    object \n",
      " 3   is_accessibility  195 non-null    int64  \n",
      " 4   rating            195 non-null    float64\n",
      " 5   n_reviews         195 non-null    int64  \n",
      " 6   address           195 non-null    object \n",
      " 7   price             195 non-null    int64  \n",
      " 8   idx_category      195 non-null    int64  \n",
      " 9   category          195 non-null    object \n",
      " 10  description       195 non-null    object \n",
      " 11  lat               195 non-null    float64\n",
      " 12  long              195 non-null    float64\n",
      " 13  Coordinate        195 non-null    object \n",
      "dtypes: float64(3), int64(5), object(6)\n",
      "memory usage: 21.5+ KB\n"
     ]
    }
   ],
   "source": [
    "df.info()"
   ]
  },
  {
   "cell_type": "code",
   "execution_count": 35,
   "metadata": {},
   "outputs": [],
   "source": [
    "\n",
    "# Function for removing NonAscii characters\n",
    "def _removeNonAscii(text):\n",
    "    return \"\".join(i for i in text if  ord(i)<128)\n",
    "\n",
    "# Function for converting into lower case\n",
    "def make_lower_case(text):\n",
    "    return text.lower()\n",
    "\n",
    "# Function for removing stop words\n",
    "def remove_stop_words(text):\n",
    "    text = text.split()\n",
    "    stops = set(stopwords.words(\"english\"))\n",
    "    text = [w for w in text if not w in stops]\n",
    "    text = \" \".join(text)\n",
    "    return text\n",
    "\n",
    "# Function for removing punctuation\n",
    "def remove_punctuation(text):\n",
    "    tokenizer = RegexpTokenizer(r'\\w+')\n",
    "    text = tokenizer.tokenize(text)\n",
    "    text = \" \".join(text)\n",
    "    return text\n",
    "\n",
    "# Function for removing the html tags\n",
    "def remove_html(text):\n",
    "    html_pattern = re.compile('<.*?>')\n",
    "    return html_pattern.sub(r'', text)\n",
    "\n",
    "# Applying all the functions in description and storing as a cleaned_desc\n",
    "df['cleaned_desc'] = df['description'].apply(_removeNonAscii)\n",
    "df['cleaned_desc'] = df.cleaned_desc.apply(func = make_lower_case)\n",
    "df['cleaned_desc'] = df.cleaned_desc.apply(func = remove_stop_words)\n",
    "df['cleaned_desc'] = df.cleaned_desc.apply(func=remove_punctuation)\n",
    "df['cleaned_desc'] = df.cleaned_desc.apply(func=remove_html)"
   ]
  },
  {
   "cell_type": "markdown",
   "metadata": {},
   "source": [
    "# Recommendation"
   ]
  },
  {
   "cell_type": "code",
   "execution_count": 36,
   "metadata": {},
   "outputs": [],
   "source": [
    "def recommendation(index):\n",
    "    \n",
    "    place = df.loc[index, 'place']\n",
    "    category = df.loc[index, 'category']\n",
    "    # Matching the category with the dataset and reset the index\n",
    "    data_category = df[df['category'] == category].reset_index(drop=True)\n",
    "  \n",
    "    # Convert the index into series\n",
    "    indices = pd.Series(data_category.index, index=data_category['place'])\n",
    "    \n",
    "    # Converting the place description into vectors\n",
    "    tf = TfidfVectorizer(analyzer='word', ngram_range=(2, 2), min_df=1, stop_words='english')\n",
    "    tfidf_matrix = tf.fit_transform(data_category['cleaned_desc'])\n",
    "    \n",
    "    # Calculating the similarity measures based on Cosine Similarity\n",
    "    cosine_sim = cosine_similarity(tfidf_matrix, tfidf_matrix)\n",
    "    \n",
    "    # Get the index corresponding to the place\n",
    "    idx = indices[place]\n",
    "    \n",
    "    # Get the pairwise similarity scores \n",
    "    sim_scores = list(enumerate(cosine_sim[idx]))\n",
    "    \n",
    "    # Sort the places\n",
    "    sim_scores = sorted(sim_scores, key=lambda x: x[1], reverse=True)\n",
    "    \n",
    "    # Scores of the 5 most similar places\n",
    "    sim_scores = sim_scores[1:10]\n",
    "    \n",
    "    # Place indices\n",
    "    place_indices = [i[0] for i in sim_scores]\n",
    "   \n",
    "    # Top 5 place recommendations\n",
    "    records = data_category['place'].iloc[place_indices]\n",
    "    return records"
   ]
  },
  {
   "cell_type": "code",
   "execution_count": 37,
   "metadata": {},
   "outputs": [
    {
     "data": {
      "text/plain": [
       "54            Pura Dalem Desa Adat Negara Batuan\n",
       "3                              Desa Adat Cangkup\n",
       "60    Pura Kahyangan Tiga Desa Adat Belang Kaler\n",
       "44                                 Desa Adat PAU\n",
       "45                      Pura Jagatnatha Jembrana\n",
       "58                         Desa Adat Kalanganyar\n",
       "25                          Desa Wisata PALASARI\n",
       "9                                     Pura Puseh\n",
       "29                              Desa Wisata Taro\n",
       "Name: place, dtype: object"
      ]
     },
     "execution_count": 37,
     "metadata": {},
     "output_type": "execute_result"
    }
   ],
   "source": [
    "recommendation(160)"
   ]
  },
  {
   "cell_type": "code",
   "execution_count": 38,
   "metadata": {},
   "outputs": [
    {
     "data": {
      "text/plain": [
       "54            Pura Dalem Desa Adat Negara Batuan\n",
       "3                              Desa Adat Cangkup\n",
       "60    Pura Kahyangan Tiga Desa Adat Belang Kaler\n",
       "44                                 Desa Adat PAU\n",
       "45                      Pura Jagatnatha Jembrana\n",
       "58                         Desa Adat Kalanganyar\n",
       "25                          Desa Wisata PALASARI\n",
       "9                                     Pura Puseh\n",
       "29                              Desa Wisata Taro\n",
       "Name: place, dtype: object"
      ]
     },
     "execution_count": 38,
     "metadata": {},
     "output_type": "execute_result"
    }
   ],
   "source": [
    "recommendation(160)"
   ]
  },
  {
   "cell_type": "code",
   "execution_count": 39,
   "metadata": {},
   "outputs": [],
   "source": [
    "def sort_place(affordable_places,lat_user, long_user):\n",
    "    # get latitude and longitude from affordable_places\n",
    "\n",
    "    # calculate euclidean distance from user to places\n",
    "    distances = np.sqrt(((affordable_places['lat'] - lat_user)**2) + ((affordable_places['long'] - long_user)**2))\n",
    "    affordable_places['distance'] = distances\n",
    "    \n",
    "    # sort dataframe based on distance\n",
    "    affordable_places = affordable_places.sort_values(by='distance', ascending=False)\n",
    "    \n",
    "    return affordable_places\n",
    "\n",
    "    "
   ]
  },
  {
   "cell_type": "code",
   "execution_count": 40,
   "metadata": {},
   "outputs": [],
   "source": [
    "def create_recommendation(idx_selected, budget, days, lat_user, long_user, is_accessibility=0):\n",
    "    # create recommendation\n",
    "    recommended_places = set()\n",
    "    # selected_places = df.iloc[idx_selected][['place', 'category']].values\n",
    "    for idx in idx_selected:\n",
    "        recommended_places.update(recommendation(idx))\n",
    "\n",
    "    filtered_places = df[df['place'].isin(recommended_places)]\n",
    "    \n",
    "    # filter based on accessibility\n",
    "    if is_accessibility == 1:\n",
    "        filtered_places = filtered_places[filtered_places['is_accessibility'] == 1]\n",
    "   \n",
    "    #filter based on budget\n",
    "    affordable_places = filtered_places[filtered_places['price'] <= budget / days]\n",
    "\n",
    "    # Sort places by Google Maps Rating and then by Review Count\n",
    "    affordable_places = affordable_places.sort_values(by=['rating', 'n_reviews'], ascending=[False, False])\n",
    "    # return affordable_places\n",
    "    # sort by distance\n",
    "    affordable_places = sort_place(affordable_places, lat_user, long_user)\n",
    "\n",
    "    # Create itinerary\n",
    "    itinerary = {}\n",
    "    list_per_day = []\n",
    "    total_cost = 0\n",
    "    places_per_day = 3\n",
    "    all_places = filtered_places.sort_values(by=['rating', 'n_reviews'], ascending=[False, False])\n",
    "\n",
    "    used_places = set()\n",
    "    for day in range(1, days + 1):\n",
    "        list_of_dest = []   \n",
    "        daily_itinerary = affordable_places[~affordable_places['place'].isin(used_places)].head(places_per_day)\n",
    "        \n",
    "        # Fallback if no affordable places are left\n",
    "        if daily_itinerary.empty:\n",
    "            daily_itinerary = all_places[~all_places['place'].isin(used_places)].head(places_per_day)\n",
    "        \n",
    "        # Ensure at least one place per day\n",
    "        while len(daily_itinerary) < places_per_day and not all_places[~all_places['place'].isin(used_places)].empty:\n",
    "            additional_place = all_places[~all_places['place'].isin(used_places)].head(1)\n",
    "            daily_itinerary = pd.concat([daily_itinerary, additional_place])\n",
    "        \n",
    "        for row in daily_itinerary.iterrows():\n",
    "            dest_dict = {}\n",
    "            dest_dict['idx_place'] = row[1]['index']\n",
    "            dest_dict['place'] = row[1]['place']\n",
    "            # dest_dict['url'] = row[1]['url']\n",
    "            # dest_dict['address'] = row[1]['address']\n",
    "            # dest_dict['is_accessibility'] = row[1]['is_accessibility']\n",
    "            # dest_dict['rating'] = row[1]['rating']\n",
    "            # dest_dict['n_reviews'] = row[1]['n_reviews']\n",
    "            # dest_dict['price'] = row[1]['price']\n",
    "            # dest_dict['category'] = row[1]['category']\n",
    "            # dest_dict['description'] = row[1]['description']\n",
    "            list_of_dest.append(dest_dict)\n",
    "         \n",
    "            \n",
    "        list_per_day.append(list_of_dest)\n",
    "        # daily_cost = daily_itinerary['price'].sum()\n",
    "        # total_cost += daily_cost\n",
    "        \n",
    "        # Remove selected places from affordable_places and all_places to avoid duplicates\n",
    "        used_places.update(daily_itinerary['place'])\n",
    "\n",
    "    #     print(f\"Jadwal Hari {day} :\")\n",
    "    #     for i, place in enumerate(daily_itinerary['place'], 1):\n",
    "    #         print(f\"{i}. {place}\")\n",
    "    #     print(f\"Biaya yang dikeluarkan untuk hari {day} : Rp {daily_cost}\\n\")\n",
    "    print(list_per_day)\n",
    "    # print(f\"Total biaya yang dikeluarkan selama {days} hari : Rp {total_cost}\\n\")\n",
    "    return list_per_day\n",
    "    \n",
    "\n",
    "    "
   ]
  },
  {
   "cell_type": "code",
   "execution_count": 41,
   "metadata": {},
   "outputs": [
    {
     "name": "stdout",
     "output_type": "stream",
     "text": [
      "[[{'idx_place': 11, 'place': 'Pantai Teluk Terima'}, {'idx_place': 8, 'place': 'Pantai Candikusuma'}, {'idx_place': 9, 'place': 'Pantai Pebuahan'}], [{'idx_place': 40, 'place': 'Bendungan Benel'}, {'idx_place': 17, 'place': 'Air Terjun Kayangan Sawe'}, {'idx_place': 39, 'place': 'Wisata Puncak JR Jembrana Bali'}], [{'idx_place': 14, 'place': 'Air Terjun Yeh Mesee'}, {'idx_place': 15, 'place': 'Sidi Tapa Waterfall'}, {'idx_place': 33, 'place': 'Air Terjun Yeh Buah'}]]\n"
     ]
    },
    {
     "data": {
      "text/plain": [
       "[[{'idx_place': 11, 'place': 'Pantai Teluk Terima'},\n",
       "  {'idx_place': 8, 'place': 'Pantai Candikusuma'},\n",
       "  {'idx_place': 9, 'place': 'Pantai Pebuahan'}],\n",
       " [{'idx_place': 40, 'place': 'Bendungan Benel'},\n",
       "  {'idx_place': 17, 'place': 'Air Terjun Kayangan Sawe'},\n",
       "  {'idx_place': 39, 'place': 'Wisata Puncak JR Jembrana Bali'}],\n",
       " [{'idx_place': 14, 'place': 'Air Terjun Yeh Mesee'},\n",
       "  {'idx_place': 15, 'place': 'Sidi Tapa Waterfall'},\n",
       "  {'idx_place': 33, 'place': 'Air Terjun Yeh Buah'}]]"
      ]
     },
     "execution_count": 41,
     "metadata": {},
     "output_type": "execute_result"
    }
   ],
   "source": [
    "### TRY TO IMPLEMENT THE RECOMMENDATION SYSTEM HERE ###\n",
    "idx_selected = [80,21,24]\n",
    "budget = 100_000\n",
    "days = 3\n",
    "lat_user = -8.409518\n",
    "long_user = 115.188919\n",
    "is_accessibility = 0\n",
    "\n",
    "get_recommendation = create_recommendation(idx_selected,budget, days, lat_user, long_user, is_accessibility)\n",
    "get_recommendation\n",
    "\n",
    "# 11 8 9 40 17 39 14 15 33"
   ]
  },
  {
   "cell_type": "code",
   "execution_count": 42,
   "metadata": {},
   "outputs": [],
   "source": [
    "def create_response(success: bool, message:str, data):\n",
    "    response = {\n",
    "        \"success\": success,\n",
    "        \"message\": message,\n",
    "        \"data\": data\n",
    "    }\n",
    "    return JSONResponse(content=response)"
   ]
  }
 ],
 "metadata": {
  "kernelspec": {
   "display_name": "Python 3",
   "language": "python",
   "name": "python3"
  },
  "language_info": {
   "codemirror_mode": {
    "name": "ipython",
    "version": 3
   },
   "file_extension": ".py",
   "mimetype": "text/x-python",
   "name": "python",
   "nbconvert_exporter": "python",
   "pygments_lexer": "ipython3",
   "version": "3.9.2"
  }
 },
 "nbformat": 4,
 "nbformat_minor": 2
}
